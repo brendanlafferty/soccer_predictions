{
 "cells": [
  {
   "cell_type": "markdown",
   "metadata": {},
   "source": [
    "# Soccer Predictions\n",
    "\n",
    "This is a notebook to iterate through models"
   ]
  },
  {
   "cell_type": "markdown",
   "metadata": {},
   "source": [
    "### Imports\n",
    "This includes importing data using script: [./scripts/data_retrieval.py](./scripts/data_retrieval.py)\n",
    "This is where feature engineering will occur"
   ]
  },
  {
   "cell_type": "code",
   "execution_count": 53,
   "metadata": {},
   "outputs": [],
   "source": [
    "from collections import defaultdict\n",
    "\n",
    "from scripts.data_retrieval import get_data\n",
    "\n",
    "from sklearn.linear_model import LogisticRegression\n",
    "from sklearn.model_selection import train_test_split\n",
    "from sklearn.metrics import classification_report, f1_score, precision_score, recall_score\n",
    "from sklearn.preprocessing import StandardScaler\n",
    "from sklearn.ensemble import RandomForestClassifier, AdaBoostClassifier, ExtraTreesClassifier\n",
    "from sklearn.model_selection import KFold\n",
    "import statsmodels.formula.api as smf\n",
    "\n",
    "import numpy as np\n",
    "import pandas as pd\n",
    "import matplotlib.pyplot as plt\n",
    "import seaborn as sns"
   ]
  },
  {
   "cell_type": "code",
   "execution_count": 2,
   "metadata": {},
   "outputs": [],
   "source": [
    "data_df = get_data()\n",
    "\n",
    "# get dummies for each of the types of free kick that happened in the last 30 sec\n",
    "dummies =  pd.get_dummies(data_df['free_kick_30s_ago'], drop_first=True)\n",
    "dummies.rename(columns=lambda x: x.lower().replace(\" \", \"_\"), inplace=True)\n",
    "data_df = pd.merge(data_df,dummies, left_index=True, right_index=True)\n",
    "data_df['free_kick_30s_ago'] = data_df['free_kick_30s_ago'].apply(bool)\n",
    "# get a numeric version for the target\n",
    "data_df['goal'] =  data_df['101']* 1\n",
    "target = 'goal'"
   ]
  },
  {
   "cell_type": "code",
   "execution_count": 3,
   "metadata": {},
   "outputs": [
    {
     "data": {
      "text/plain": [
       "0.0025209859856298866"
      ]
     },
     "execution_count": 3,
     "metadata": {},
     "output_type": "execute_result"
    }
   ],
   "source": [
    "pre_filter = len(data_df)\n",
    "\n",
    "# filter for all shots in the attacking half\n",
    "filtered_df = data_df[data_df['x1'] > 50]\n",
    "post_filter = len(filtered_df)\n",
    "\n",
    "1-post_filter/pre_filter"
   ]
  },
  {
   "cell_type": "code",
   "execution_count": 4,
   "metadata": {},
   "outputs": [],
   "source": [
    "train_val_df, test_df = train_test_split(filtered_df, shuffle=True, random_state=1950, test_size=.2)\n",
    "\n",
    "train_df, val_df = train_test_split(train_val_df, shuffle=True, random_state=2020, test_size=.25)\n",
    "\n"
   ]
  },
  {
   "cell_type": "code",
   "execution_count": 5,
   "metadata": {},
   "outputs": [
    {
     "name": "stderr",
     "output_type": "stream",
     "text": [
      "/Users/bren_top/opt/anaconda3/lib/python3.7/site-packages/ipykernel_launcher.py:5: SettingWithCopyWarning: \n",
      "A value is trying to be set on a copy of a slice from a DataFrame.\n",
      "Try using .loc[row_indexer,col_indexer] = value instead\n",
      "\n",
      "See the caveats in the documentation: https://pandas.pydata.org/pandas-docs/stable/user_guide/indexing.html#returning-a-view-versus-a-copy\n",
      "  \"\"\"\n",
      "/Users/bren_top/opt/anaconda3/lib/python3.7/site-packages/ipykernel_launcher.py:6: SettingWithCopyWarning: \n",
      "A value is trying to be set on a copy of a slice from a DataFrame.\n",
      "Try using .loc[row_indexer,col_indexer] = value instead\n",
      "\n",
      "See the caveats in the documentation: https://pandas.pydata.org/pandas-docs/stable/user_guide/indexing.html#returning-a-view-versus-a-copy\n",
      "  \n",
      "/Users/bren_top/opt/anaconda3/lib/python3.7/site-packages/ipykernel_launcher.py:7: SettingWithCopyWarning: \n",
      "A value is trying to be set on a copy of a slice from a DataFrame.\n",
      "Try using .loc[row_indexer,col_indexer] = value instead\n",
      "\n",
      "See the caveats in the documentation: https://pandas.pydata.org/pandas-docs/stable/user_guide/indexing.html#returning-a-view-versus-a-copy\n",
      "  import sys\n",
      "/Users/bren_top/opt/anaconda3/lib/python3.7/site-packages/ipykernel_launcher.py:8: SettingWithCopyWarning: \n",
      "A value is trying to be set on a copy of a slice from a DataFrame.\n",
      "Try using .loc[row_indexer,col_indexer] = value instead\n",
      "\n",
      "See the caveats in the documentation: https://pandas.pydata.org/pandas-docs/stable/user_guide/indexing.html#returning-a-view-versus-a-copy\n",
      "  \n",
      "/Users/bren_top/opt/anaconda3/lib/python3.7/site-packages/ipykernel_launcher.py:14: SettingWithCopyWarning: \n",
      "A value is trying to be set on a copy of a slice from a DataFrame.\n",
      "Try using .loc[row_indexer,col_indexer] = value instead\n",
      "\n",
      "See the caveats in the documentation: https://pandas.pydata.org/pandas-docs/stable/user_guide/indexing.html#returning-a-view-versus-a-copy\n",
      "  \n",
      "/Users/bren_top/opt/anaconda3/lib/python3.7/site-packages/ipykernel_launcher.py:15: SettingWithCopyWarning: \n",
      "A value is trying to be set on a copy of a slice from a DataFrame.\n",
      "Try using .loc[row_indexer,col_indexer] = value instead\n",
      "\n",
      "See the caveats in the documentation: https://pandas.pydata.org/pandas-docs/stable/user_guide/indexing.html#returning-a-view-versus-a-copy\n",
      "  from ipykernel import kernelapp as app\n",
      "/Users/bren_top/opt/anaconda3/lib/python3.7/site-packages/ipykernel_launcher.py:16: SettingWithCopyWarning: \n",
      "A value is trying to be set on a copy of a slice from a DataFrame.\n",
      "Try using .loc[row_indexer,col_indexer] = value instead\n",
      "\n",
      "See the caveats in the documentation: https://pandas.pydata.org/pandas-docs/stable/user_guide/indexing.html#returning-a-view-versus-a-copy\n",
      "  app.launch_new_instance()\n",
      "/Users/bren_top/opt/anaconda3/lib/python3.7/site-packages/ipykernel_launcher.py:17: SettingWithCopyWarning: \n",
      "A value is trying to be set on a copy of a slice from a DataFrame.\n",
      "Try using .loc[row_indexer,col_indexer] = value instead\n",
      "\n",
      "See the caveats in the documentation: https://pandas.pydata.org/pandas-docs/stable/user_guide/indexing.html#returning-a-view-versus-a-copy\n"
     ]
    }
   ],
   "source": [
    "# get standard scaling for distances and angles in training set\n",
    "dist_scaler = StandardScaler().fit(train_df[['distance_to_goal_mid']])\n",
    "ang_scaler = StandardScaler().fit(train_df[['angular_size_rad_goal']])\n",
    "\n",
    "train_df['dist_std'] = dist_scaler.transform(train_df[['distance_to_goal_mid']].values)\n",
    "train_df['ang_std'] = ang_scaler.transform(train_df[['angular_size_rad_goal']].values)\n",
    "val_df['dist_std'] = dist_scaler.transform(val_df[['distance_to_goal_mid']].values)\n",
    "val_df['ang_std'] = ang_scaler.transform(val_df[['angular_size_rad_goal']].values)\n",
    "\n",
    "# also set scaling for whole training set including validation\n",
    "dist_scaler_final = StandardScaler().fit(train_val_df[['distance_to_goal_mid']])\n",
    "ang_scaler_final = StandardScaler().fit(train_val_df[['angular_size_rad_goal']])\n",
    "\n",
    "train_val_df['dist_std'] = dist_scaler_final.transform(train_val_df[['distance_to_goal_mid']].values)\n",
    "train_val_df['ang_std'] = ang_scaler_final.transform(train_val_df[['angular_size_rad_goal']].values)\n",
    "test_df['dist_std'] = dist_scaler_final.transform(test_df[['distance_to_goal_mid']].values)\n",
    "test_df['ang_std'] = ang_scaler_final.transform(test_df[['angular_size_rad_goal']].values)\n"
   ]
  },
  {
   "cell_type": "code",
   "execution_count": 6,
   "metadata": {},
   "outputs": [
    {
     "data": {
      "image/png": "[encoded data removed]",
      "text/plain": [
       "<Figure size 432x288 with 1 Axes>"
      ]
     },
     "metadata": {
      "needs_background": "light"
     },
     "output_type": "display_data"
    }
   ],
   "source": [
    "fig = plt.figure()\n",
    "ax = plt.subplot(111)\n",
    "grouped = data_df[['matchId','eventName']].groupby('matchId').count()\n",
    "grouped.hist(bins=50, ax=ax)\n",
    "plt.title('Shots Taken per Game')\n",
    "plt.xlabel('Shots per game')\n",
    "plt.ylabel('Frequency');"
   ]
  },
  {
   "cell_type": "markdown",
   "metadata": {},
   "source": [
    "## Baseline Model\n",
    "- Model using distance to goal"
   ]
  },
  {
   "cell_type": "code",
   "execution_count": 7,
   "metadata": {},
   "outputs": [],
   "source": [
    "y = train_df[target]\n",
    "y_true_val = val_df[target]"
   ]
  },
  {
   "cell_type": "code",
   "execution_count": 8,
   "metadata": {},
   "outputs": [
    {
     "name": "stdout",
     "output_type": "stream",
     "text": [
      "Max Predicted Probability 0.5177\n"
     ]
    }
   ],
   "source": [
    "features_1 = ['distance_to_goal_mid']\n",
    "X = train_df[features_1]\n",
    "\n",
    "logis_mod_1 = LogisticRegression(C=1000)\n",
    "logis_fit_1 =  logis_mod_1.fit(X,y)\n",
    "\n",
    "y_pred_proba_train_1 = logis_fit_1.predict_proba(train_df[features_1])\n",
    "y_pred_proba_val_1 = logis_fit_1.predict_proba(val_df[features_1])\n",
    "print('Max Predicted Probability {:.4}'.format(max(y_pred_proba_train_1[:,1])))"
   ]
  },
  {
   "cell_type": "code",
   "execution_count": 9,
   "metadata": {},
   "outputs": [
    {
     "name": "stdout",
     "output_type": "stream",
     "text": [
      "optimal threshold    : 0.21\n",
      "f1 score at threshold:  0.352\n"
     ]
    },
    {
     "data": {
      "text/plain": [
       "0.21"
      ]
     },
     "execution_count": 9,
     "metadata": {},
     "output_type": "execute_result"
    },
    {
     "data": {
      "image/png": "[encoded data removed]",
      "text/plain": [
       "<Figure size 432x288 with 1 Axes>"
      ]
     },
     "metadata": {
      "needs_background": "light"
     },
     "output_type": "display_data"
    }
   ],
   "source": [
    "def plot_f1_over_thresholds(y_pred_proba, y_actual, threshold_range=None):\n",
    "    try: \n",
    "        threshold_range.any()\n",
    "    except AttributeError:\n",
    "        threshold_range = np.arange(0,.5,.005)\n",
    "    f1s = []\n",
    "    precisions = []\n",
    "    recalls = []\n",
    "    for threshold in threshold_range:\n",
    "        y_pred_loop = y_pred_proba > threshold\n",
    "        f1s.append(f1_score(y_actual, y_pred_loop, pos_label=True))\n",
    "        precisions.append(precision_score(y_actual, y_pred_loop, pos_label=True))\n",
    "        recalls.append(recall_score(y_actual, y_pred_loop, pos_label=True))\n",
    "    plt.plot(threshold_range, f1s, label='F1 Score')\n",
    "    plt.plot(threshold_range, precisions, label='Precision Score')\n",
    "    plt.plot(threshold_range, recalls, label='Recall Score')\n",
    "    plt.xlabel('Threshold')\n",
    "    plt.ylabel('Score')\n",
    "    plt.title('F1, Precision, and Recall Scores vs. Threshold')\n",
    "    plt.legend()\n",
    "    ind = np.argmax(f1s)\n",
    "    max_f1 = f1s[ind]\n",
    "    optimal_threshold = threshold_range[ind]\n",
    "    note = f'Max F1:\\n{max_f1:.3}\\n\\nThreshold:\\n{optimal_threshold: .3}'\n",
    "    plt.annotate(note, xy=[optimal_threshold, max_f1], xycoords='data', \n",
    "                 xytext=(0.125, 0.45), textcoords='axes fraction',\n",
    "                 ha=\"center\",\n",
    "                 bbox=dict(boxstyle=\"round\", fc=\"0.97\"),\n",
    "                 arrowprops=dict(arrowstyle=\"->\",\n",
    "                                 shrinkA=0, shrinkB=2,\n",
    "                                 connectionstyle=\"arc,angleA=0,armA=50,rad=5\"))\n",
    "    return max_f1, optimal_threshold \n",
    "\n",
    "opt_f1_1, opt_threshold_1 = plot_f1_over_thresholds(y_pred_proba_train_1[:,1], y)\n",
    "print(f'optimal threshold    :{opt_threshold_1: .4}\\nf1 score at threshold: {opt_f1_1: .3}')\n",
    "\n",
    "opt_threshold_1"
   ]
  },
  {
   "cell_type": "code",
   "execution_count": 10,
   "metadata": {},
   "outputs": [
    {
     "data": {
      "text/plain": [
       "-0.13192897227571931"
      ]
     },
     "execution_count": 10,
     "metadata": {},
     "output_type": "execute_result"
    }
   ],
   "source": [
    "logis_fit_1.coef_[0][0]"
   ]
  },
  {
   "cell_type": "markdown",
   "metadata": {},
   "source": [
    "#### Validatian Score:"
   ]
  },
  {
   "cell_type": "code",
   "execution_count": 11,
   "metadata": {},
   "outputs": [
    {
     "name": "stdout",
     "output_type": "stream",
     "text": [
      "              precision    recall  f1-score   support\n",
      "\n",
      "           0       0.93      0.89      0.91     40263\n",
      "           1       0.29      0.41      0.34      4606\n",
      "\n",
      "    accuracy                           0.84     44869\n",
      "   macro avg       0.61      0.65      0.62     44869\n",
      "weighted avg       0.86      0.84      0.85     44869\n",
      "\n",
      "0.3403445149592022\n"
     ]
    }
   ],
   "source": [
    "y_pred_val_1 = y_pred_proba_val_1[:,1] > opt_threshold_1\n",
    "print(classification_report(y_true_val, y_pred_val_1))\n",
    "print(f1_score(y_true_val, y_pred_val_1))"
   ]
  },
  {
   "cell_type": "code",
   "execution_count": 12,
   "metadata": {},
   "outputs": [
    {
     "name": "stderr",
     "output_type": "stream",
     "text": [
      "/Users/bren_top/opt/anaconda3/lib/python3.7/site-packages/sklearn/metrics/_classification.py:1221: UndefinedMetricWarning: Precision is ill-defined and being set to 0.0 due to no predicted samples. Use `zero_division` parameter to control this behavior.\n",
      "  _warn_prf(average, modifier, msg_start, len(result))\n"
     ]
    },
    {
     "data": {
      "image/png": "[encoded data removed]",
      "text/plain": [
       "<Figure size 864x360 with 2 Axes>"
      ]
     },
     "metadata": {
      "needs_background": "light"
     },
     "output_type": "display_data"
    }
   ],
   "source": [
    "lr_balanceed = LogisticRegression(class_weight='balanced', C=1000)\n",
    "lr_4x = LogisticRegression(class_weight={True : 4, False : 1}, C=1000)\n",
    "fit_balanced = lr_balanceed.fit(X,y)\n",
    "fit_4x = lr_4x.fit(X,y)\n",
    "\n",
    "y_proba_train_balanced = fit_balanced.predict_proba(X)\n",
    "y_proba_train_4x = fit_4x.predict_proba(X)\n",
    "\n",
    "y_proba_val_balanced = fit_balanced.predict_proba(val_df[features_1])\n",
    "y_proba_val_4x = fit_4x.predict_proba(val_df[features_1])\n",
    "\n",
    "\n",
    "plt.figure(figsize=[12,5])\n",
    "plt.subplot(121)\n",
    "opt_f1_balanced, opt_threshold_balanced = plot_f1_over_thresholds(y_proba_train_balanced[:,1], y, np.arange(.4,.8,.005))\n",
    "plt.subplot(122)\n",
    "opt_f1_4x, opt_threshold_4x = plot_f1_over_thresholds(y_proba_train_4x[:,1], y, np.arange(.4,.8,.005))"
   ]
  },
  {
   "cell_type": "markdown",
   "metadata": {},
   "source": [
    "\n",
    "\n"
   ]
  },
  {
   "cell_type": "markdown",
   "metadata": {},
   "source": [
    "## Feature Engineering\n",
    "\n",
    "\n",
    "\n",
    "\n",
    "\n",
    "\n",
    "#### Spatial Features\n",
    "| Feature                       | Description\n",
    "|:------------------------------|:------------------------------------|\n",
    "| distance_to_goal_mid          | distance to goal in yards <br> ***see below for details***  |\n",
    "| distance_to_goal_nearest      |    |\n",
    "| angular_size_rad_goal         | angular size of the goal in radians <br> ***see below for details*** <br> Although pictured below is in degrees, the computed value is in radians |\n",
    "| projected_size_yds_goal       | a projection of the size of the goal in yards <br> ***see below for details*** <br>(an attempt to more linearly separate angular size from distance to goal)|\n",
    "|   kicked                      | whether the ball was kicked or headed\n",
    "   side_of_field_matching_foot | whether the foot used matched the side of the field|\n",
    "   \n",
    "<img src=\"./extras/feature_geometries.png\" width=\"1000\" style=\"display: block; margin-left: auto; margin-right: auto; width: 75%;\">\n",
    "\n",
    "<div align=\"center\"> Generated in <a href=\"https://www.geogebra.org/\">geogebra</a> </div>\n",
    "\n",
    "\n",
    "#### Temporal Features\n",
    "| Feature                       | Description\n",
    "|:------------------------------|:------------------------------------|\n",
    "|   send_off_diff               | the cumulative player advantage due to send offs|\n",
    "|   free_kick_30s_ago           | The type of free kick if one happened less than 30s ago|\n",
    "\n",
    "\n",
    "#### Additional Features\n",
    "| Feature                       | Description\n",
    "|:------------------------------|:------------------------------------|\n",
    "|   dominant foot               | cross references a data base of player information to tell whether the dominant foot was used|"
   ]
  },
  {
   "cell_type": "markdown",
   "metadata": {},
   "source": [
    "### Comparison of Angular Size vs Projected Size\n",
    "\n",
    "Both of these ended up not helping the logistic regrossion very much and aren't any better alone. The both are skewed data sets with one being skewed towards the smaller end, the other skewed towards higher end"
   ]
  },
  {
   "cell_type": "code",
   "execution_count": 13,
   "metadata": {},
   "outputs": [
    {
     "name": "stdout",
     "output_type": "stream",
     "text": [
      "8168/134607 =  6.07%\n"
     ]
    },
    {
     "data": {
      "image/png": "[encoded data removed]",
      "text/plain": [
       "<Figure size 432x288 with 2 Axes>"
      ]
     },
     "metadata": {
      "needs_background": "light"
     },
     "output_type": "display_data"
    }
   ],
   "source": [
    "plt.figure()\n",
    "ax1 = plt.subplot(121)\n",
    "ax2 = plt.subplot(122)\n",
    "train_df[['angular_size_rad_goal']].boxplot(ax=ax1)\n",
    "train_df[['projected_size_yds_goal']].boxplot(ax=ax2)\n",
    "# plt.ylim([0,200])\n",
    "above_8 = sum(train_df['projected_size_yds_goal'] > 8)\n",
    "total = len(train_df)\n",
    "print(f\"{above_8}/{total} = {above_8/total: .2%}\")"
   ]
  },
  {
   "cell_type": "code",
   "execution_count": 14,
   "metadata": {},
   "outputs": [
    {
     "data": {
      "image/png": "[encoded data removed]",
      "text/plain": [
       "<Figure size 864x576 with 4 Axes>"
      ]
     },
     "metadata": {
      "needs_background": "light"
     },
     "output_type": "display_data"
    }
   ],
   "source": [
    "features_to_plot = ['distance_to_goal_mid', 'distance_to_goal_nearest', 'angular_size_rad_goal', 'projected_size_yds_goal']\n",
    "plt.figure(figsize=[12,8])\n",
    "for ind, feature in enumerate(features_to_plot):\n",
    "    ax = plt.subplot(2, 2, ind + 1)\n",
    "    # diff = int(data_df[feature].values.max() -  data_df[feature].values.min())\n",
    "    data_df[[feature]].hist(bins=100, ax=ax)"
   ]
  },
  {
   "cell_type": "code",
   "execution_count": 15,
   "metadata": {},
   "outputs": [
    {
     "name": "stdout",
     "output_type": "stream",
     "text": [
      "Max Predicted Probability 0.9436\n",
      "optimal threshold    : 0.3561\n",
      "f1 score at threshold:  0.195\n"
     ]
    },
    {
     "data": {
      "image/png": "[encoded data removed]",
      "text/plain": [
       "<Figure size 432x288 with 1 Axes>"
      ]
     },
     "metadata": {
      "needs_background": "light"
     },
     "output_type": "display_data"
    }
   ],
   "source": [
    "features_2 = ['distance_to_goal_mid', 'angular_size_rad_goal']\n",
    "X_2 = train_df[features_2]\n",
    "scaler_2 = StandardScaler()\n",
    "X_std_sc = scaler_2.fit_transform(X_2)\n",
    "X_val_std_sc = scaler_2.transform(val_df[features_2])\n",
    "\n",
    "logis_mod_2 = LogisticRegression(C=1000)\n",
    "logis_fit_2 =  logis_mod_2.fit(X_std_sc,y)\n",
    "\n",
    "y_pred_proba_train_2 = logis_fit_2.predict_proba(X_std_sc)\n",
    "y_pred_proba_val_2 = logis_fit_2.predict_proba(X_val_std_sc)\n",
    "print('Max Predicted Probability {:.4}'.format(max(y_pred_proba_train_2[:,1])))\n",
    "opt_threshold_2, opt_f1_2 = plot_f1_over_thresholds(y_pred_proba_train_2[:,1], y)\n",
    "print(f'optimal threshold    :{opt_threshold_2: .4}\\nf1 score at threshold: {opt_f1_2: .3}')"
   ]
  },
  {
   "cell_type": "code",
   "execution_count": 16,
   "metadata": {},
   "outputs": [
    {
     "data": {
      "text/plain": [
       "array([[-0.08625587,  1.30812598]])"
      ]
     },
     "execution_count": 16,
     "metadata": {},
     "output_type": "execute_result"
    }
   ],
   "source": [
    "logis_fit_2.coef_ / scaler_2.scale_\n"
   ]
  },
  {
   "cell_type": "code",
   "execution_count": 17,
   "metadata": {},
   "outputs": [
    {
     "name": "stdout",
     "output_type": "stream",
     "text": [
      "Max Predicted Probability 0.5299\n",
      "optimal threshold    : 0.225\n",
      "f1 score at threshold:  0.354\n"
     ]
    },
    {
     "data": {
      "image/png": "[encoded data removed]",
      "text/plain": [
       "<Figure size 432x288 with 1 Axes>"
      ]
     },
     "metadata": {
      "needs_background": "light"
     },
     "output_type": "display_data"
    }
   ],
   "source": [
    "features_3 = ['distance_to_goal_mid', 'projected_size_yds_goal']\n",
    "X_3 = train_df[features_3]\n",
    "scaler_3 = StandardScaler()\n",
    "X_std_sc_3 = scaler_3.fit_transform(X_3)\n",
    "X_val_std_sc_3 = scaler_3.transform(val_df[features_3])\n",
    "\n",
    "\n",
    "logis_mod_3 = LogisticRegression(C=1000)\n",
    "logis_fit_3 =  logis_mod_3.fit(X_std_sc_3,y)\n",
    "\n",
    "y_pred_proba_train_3 = logis_fit_3.predict_proba(X_std_sc_3)\n",
    "y_pred_proba_val_3 = logis_fit_3.predict_proba(X_val_std_sc_3)\n",
    "print('Max Predicted Probability {:.4}'.format(max(y_pred_proba_train_3[:,1])))\n",
    "opt_f1_3, opt_threshold_3 = plot_f1_over_thresholds(y_pred_proba_train_3[:,1], y)\n",
    "print(f'optimal threshold    :{opt_threshold_3: .4}\\nf1 score at threshold: {opt_f1_3: .3}')"
   ]
  },
  {
   "cell_type": "code",
   "execution_count": 18,
   "metadata": {},
   "outputs": [
    {
     "data": {
      "text/plain": [
       "array([[-0.12789106,  0.11905751]])"
      ]
     },
     "execution_count": 18,
     "metadata": {},
     "output_type": "execute_result"
    }
   ],
   "source": [
    "logis_fit_3.coef_ / scaler_3.scale_"
   ]
  },
  {
   "cell_type": "code",
   "execution_count": 19,
   "metadata": {},
   "outputs": [
    {
     "name": "stdout",
     "output_type": "stream",
     "text": [
      "Max Predicted Probability 0.1355\n"
     ]
    },
    {
     "name": "stderr",
     "output_type": "stream",
     "text": [
      "/Users/bren_top/opt/anaconda3/lib/python3.7/site-packages/sklearn/metrics/_classification.py:1221: UndefinedMetricWarning: Precision is ill-defined and being set to 0.0 due to no predicted samples. Use `zero_division` parameter to control this behavior.\n",
      "  _warn_prf(average, modifier, msg_start, len(result))\n"
     ]
    },
    {
     "name": "stdout",
     "output_type": "stream",
     "text": [
      "optimal threshold    : 0.12\n",
      "f1 score at threshold:  0.238\n"
     ]
    },
    {
     "data": {
      "image/png": "[encoded data removed]",
      "text/plain": [
       "<Figure size 432x288 with 1 Axes>"
      ]
     },
     "metadata": {
      "needs_background": "light"
     },
     "output_type": "display_data"
    }
   ],
   "source": [
    "features_4 = ['projected_size_yds_goal']\n",
    "X_4 = train_df[features_4]\n",
    "scaler_4 = StandardScaler()\n",
    "X_std_sc_4 = scaler_4.fit_transform(X_4)\n",
    "X_val_std_sc_4 = scaler_4.transform(val_df[features_4])\n",
    "\n",
    "logis_mod_4 = LogisticRegression(C=1000)\n",
    "logis_fit_4 =  logis_mod_4.fit(X_std_sc_4,y)\n",
    "\n",
    "y_pred_proba_train_4 = logis_fit_4.predict_proba(X_std_sc_4)\n",
    "y_pred_proba_val_4 = logis_fit_4.predict_proba(X_val_std_sc_4)\n",
    "print('Max Predicted Probability {:.4}'.format(max(y_pred_proba_train_4[:,1])))\n",
    "opt_f1_4, opt_threshold_4 = plot_f1_over_thresholds(y_pred_proba_train_4[:,1], y)\n",
    "print(f'optimal threshold    :{opt_threshold_4: .4}\\nf1 score at threshold: {opt_f1_4: .3}')"
   ]
  },
  {
   "cell_type": "code",
   "execution_count": 20,
   "metadata": {},
   "outputs": [
    {
     "data": {
      "text/plain": [
       "array([[0.19032195]])"
      ]
     },
     "execution_count": 20,
     "metadata": {},
     "output_type": "execute_result"
    }
   ],
   "source": [
    "logis_fit_4.coef_ / scaler_4.scale_"
   ]
  },
  {
   "cell_type": "code",
   "execution_count": 21,
   "metadata": {},
   "outputs": [
    {
     "name": "stdout",
     "output_type": "stream",
     "text": [
      "Max Predicted Probability 0.998\n",
      "optimal threshold    : 0.14\n",
      "f1 score at threshold:  0.346\n"
     ]
    },
    {
     "data": {
      "image/png": "[encoded data removed]",
      "text/plain": [
       "<Figure size 432x288 with 1 Axes>"
      ]
     },
     "metadata": {
      "needs_background": "light"
     },
     "output_type": "display_data"
    }
   ],
   "source": [
    "features_5 = ['angular_size_rad_goal']\n",
    "X_5 = train_df[features_5]\n",
    "scaler_5 = StandardScaler()\n",
    "X_std_sc_5 = scaler_5.fit_transform(X_5)\n",
    "X_val_std_sc_5 = scaler_5.transform(val_df[features_5])\n",
    "\n",
    "logis_mod_5 = LogisticRegression(C=1000)\n",
    "logis_fit_5 =  logis_mod_5.fit(X_std_sc_5,y)\n",
    "\n",
    "y_pred_proba_train_5 = logis_fit_5.predict_proba(X_std_sc_5)\n",
    "y_pred_proba_val_5 = logis_fit_5.predict_proba(X_val_std_sc_5)\n",
    "print('Max Predicted Probability {:.4}'.format(max(y_pred_proba_train_5[:,1])))\n",
    "opt_f1_5, opt_threshold_5 = plot_f1_over_thresholds(y_pred_proba_train_5[:,1], y)\n",
    "print(f'optimal threshold    :{opt_threshold_5: .4}\\nf1 score at threshold: {opt_f1_5: .3}')"
   ]
  },
  {
   "cell_type": "markdown",
   "metadata": {},
   "source": [
    "## Logistic Modeling on the Whole Feature Set\n",
    "\n",
    "On the whole this performed worse (in terms of predictive power) than the tree based methods but the goal is interpretability"
   ]
  },
  {
   "cell_type": "code",
   "execution_count": 22,
   "metadata": {},
   "outputs": [
    {
     "name": "stderr",
     "output_type": "stream",
     "text": [
      "/Users/bren_top/opt/anaconda3/lib/python3.7/site-packages/sklearn/linear_model/_logistic.py:764: ConvergenceWarning: lbfgs failed to converge (status=1):\n",
      "STOP: TOTAL NO. of ITERATIONS REACHED LIMIT.\n",
      "\n",
      "Increase the number of iterations (max_iter) or scale the data as shown in:\n",
      "    https://scikit-learn.org/stable/modules/preprocessing.html\n",
      "Please also refer to the documentation for alternative solver options:\n",
      "    https://scikit-learn.org/stable/modules/linear_model.html#logistic-regression\n",
      "  extra_warning_msg=_LOGISTIC_SOLVER_CONVERGENCE_MSG)\n"
     ]
    },
    {
     "name": "stdout",
     "output_type": "stream",
     "text": [
      "Max Predicted Probability 1.0\n",
      "optimal threshold    : 0.32\n",
      "f1 score at threshold:  0.364\n"
     ]
    },
    {
     "data": {
      "image/png": "[encoded data removed]",
      "text/plain": [
       "<Figure size 432x288 with 1 Axes>"
      ]
     },
     "metadata": {
      "needs_background": "light"
     },
     "output_type": "display_data"
    }
   ],
   "source": [
    "features_all = [\n",
    "       'distance_to_goal_mid',\n",
    "       'angular_size_rad_goal', 'kicked', 'side_of_field_matching_foot',\n",
    "       'send_off_diff', 'dominant_foot', 'corner',\n",
    "       'free_kick', 'free_kick_cross', 'free_kick_shot', 'goal_kick',\n",
    "       'penalty', 'throw_in']\n",
    "\n",
    "X_train_all = train_df[features_all]\n",
    "scaler_all = StandardScaler()\n",
    "X_std_sc_all = scaler_all.fit_transform(X_train_all)\n",
    "X_val_std_sc_all = scaler_all.transform(val_df[features_all])\n",
    "\n",
    "\n",
    "logis_mod_all = LogisticRegression(C=1000)\n",
    "logis_fit_all =  logis_mod_5.fit(X_train_all,y)\n",
    "\n",
    "y_pred_proba_train_all = logis_fit_all.predict_proba(X_std_sc_all)\n",
    "y_pred_proba_val_all = logis_fit_all.predict_proba(X_val_std_sc_all)\n",
    "print('Max Predicted Probability {:.4}'.format(max(y_pred_proba_train_all[:,1])))\n",
    "opt_f1_all, opt_threshold_all = plot_f1_over_thresholds(y_pred_proba_train_all[:,1], y)\n",
    "print(f'optimal threshold    :{opt_threshold_all: .4}\\nf1 score at threshold: {opt_f1_all: .3}')"
   ]
  },
  {
   "cell_type": "code",
   "execution_count": 23,
   "metadata": {},
   "outputs": [
    {
     "data": {
      "text/plain": [
       "array([[-0.01134923,  6.04293604,  2.63040927,  0.01569448, -0.06847843,\n",
       "        -0.04839531, -0.33341312,  0.11406406, -0.41427078, -4.4575929 ,\n",
       "         0.55626104,  3.32361762, -0.26980317]])"
      ]
     },
     "execution_count": 23,
     "metadata": {},
     "output_type": "execute_result"
    }
   ],
   "source": [
    "logis_fit_all.coef_ / scaler_all.scale_"
   ]
  },
  {
   "cell_type": "code",
   "execution_count": 24,
   "metadata": {},
   "outputs": [
    {
     "name": "stdout",
     "output_type": "stream",
     "text": [
      "<class 'pandas.core.frame.DataFrame'>\n",
      "Int64Index: 134607 entries, 336 to 969\n",
      "Data columns (total 1 columns):\n",
      " #   Column  Non-Null Count   Dtype\n",
      "---  ------  --------------   -----\n",
      " 0   goal    134607 non-null  int64\n",
      "dtypes: int64(1)\n",
      "memory usage: 2.1 MB\n"
     ]
    }
   ],
   "source": [
    "train_df[['goal']].info()"
   ]
  },
  {
   "cell_type": "markdown",
   "metadata": {},
   "source": [
    "### A Deeper Dive\n",
    "statsmodels has slightly different results in the smaller coefficients but match pretty closely especially for the larger values.\n",
    "Features to eliminate:\n",
    " - send_off_diff : the p value is >> .5\n",
    " - dominant_foot : the p value is >> .5"
   ]
  },
  {
   "cell_type": "code",
   "execution_count": 25,
   "metadata": {},
   "outputs": [
    {
     "name": "stdout",
     "output_type": "stream",
     "text": [
      "Optimization terminated successfully.\n",
      "         Current function value: 0.282354\n",
      "         Iterations 8\n"
     ]
    },
    {
     "data": {
      "text/html": [
       "<table class=\"simpletable\">\n",
       "<caption>Logit Regression Results</caption>\n",
       "<tr>\n",
       "  <th>Dep. Variable:</th>         <td>goal</td>       <th>  No. Observations:  </th>  <td>134607</td> \n",
       "</tr>\n",
       "<tr>\n",
       "  <th>Model:</th>                 <td>Logit</td>      <th>  Df Residuals:      </th>  <td>134593</td> \n",
       "</tr>\n",
       "<tr>\n",
       "  <th>Method:</th>                 <td>MLE</td>       <th>  Df Model:          </th>  <td>    13</td> \n",
       "</tr>\n",
       "<tr>\n",
       "  <th>Date:</th>            <td>Wed, 05 Aug 2020</td> <th>  Pseudo R-squ.:     </th>  <td>0.1580</td> \n",
       "</tr>\n",
       "<tr>\n",
       "  <th>Time:</th>                <td>03:32:07</td>     <th>  Log-Likelihood:    </th> <td> -38007.</td>\n",
       "</tr>\n",
       "<tr>\n",
       "  <th>converged:</th>             <td>True</td>       <th>  LL-Null:           </th> <td> -45138.</td>\n",
       "</tr>\n",
       "<tr>\n",
       "  <th>Covariance Type:</th>     <td>nonrobust</td>    <th>  LLR p-value:       </th>  <td> 0.000</td> \n",
       "</tr>\n",
       "</table>\n",
       "<table class=\"simpletable\">\n",
       "<tr>\n",
       "               <td></td>                  <th>coef</th>     <th>std err</th>      <th>z</th>      <th>P>|z|</th>  <th>[0.025</th>    <th>0.975]</th>  \n",
       "</tr>\n",
       "<tr>\n",
       "  <th>Intercept</th>                   <td>   -3.3912</td> <td>    0.028</td> <td> -119.043</td> <td> 0.000</td> <td>   -3.447</td> <td>   -3.335</td>\n",
       "</tr>\n",
       "<tr>\n",
       "  <th>dist_std</th>                    <td>   -0.9582</td> <td>    0.020</td> <td>  -46.964</td> <td> 0.000</td> <td>   -0.998</td> <td>   -0.918</td>\n",
       "</tr>\n",
       "<tr>\n",
       "  <th>ang_std</th>                     <td>    0.3553</td> <td>    0.013</td> <td>   28.345</td> <td> 0.000</td> <td>    0.331</td> <td>    0.380</td>\n",
       "</tr>\n",
       "<tr>\n",
       "  <th>kicked</th>                      <td>    0.9710</td> <td>    0.034</td> <td>   28.641</td> <td> 0.000</td> <td>    0.905</td> <td>    1.037</td>\n",
       "</tr>\n",
       "<tr>\n",
       "  <th>side_of_field_matching_foot</th> <td>    0.0136</td> <td>    0.012</td> <td>    1.141</td> <td> 0.254</td> <td>   -0.010</td> <td>    0.037</td>\n",
       "</tr>\n",
       "<tr>\n",
       "  <th>send_off_diff</th>               <td>   -0.0299</td> <td>    0.021</td> <td>   -1.420</td> <td> 0.156</td> <td>   -0.071</td> <td>    0.011</td>\n",
       "</tr>\n",
       "<tr>\n",
       "  <th>dominant_foot</th>               <td>   -0.0259</td> <td>    0.025</td> <td>   -1.054</td> <td> 0.292</td> <td>   -0.074</td> <td>    0.022</td>\n",
       "</tr>\n",
       "<tr>\n",
       "  <th>corner</th>                      <td>   -0.1118</td> <td>    0.030</td> <td>   -3.766</td> <td> 0.000</td> <td>   -0.170</td> <td>   -0.054</td>\n",
       "</tr>\n",
       "<tr>\n",
       "  <th>free_kick</th>                   <td>    0.0343</td> <td>    0.035</td> <td>    0.980</td> <td> 0.327</td> <td>   -0.034</td> <td>    0.103</td>\n",
       "</tr>\n",
       "<tr>\n",
       "  <th>free_kick_cross</th>             <td>   -0.0961</td> <td>    0.044</td> <td>   -2.190</td> <td> 0.029</td> <td>   -0.182</td> <td>   -0.010</td>\n",
       "</tr>\n",
       "<tr>\n",
       "  <th>free_kick_shot</th>              <td>   -0.3897</td> <td>    0.122</td> <td>   -3.186</td> <td> 0.001</td> <td>   -0.629</td> <td>   -0.150</td>\n",
       "</tr>\n",
       "<tr>\n",
       "  <th>goal_kick</th>                   <td>    0.1060</td> <td>    0.049</td> <td>    2.176</td> <td> 0.030</td> <td>    0.011</td> <td>    0.201</td>\n",
       "</tr>\n",
       "<tr>\n",
       "  <th>penalty</th>                     <td>    0.2308</td> <td>    0.197</td> <td>    1.172</td> <td> 0.241</td> <td>   -0.155</td> <td>    0.617</td>\n",
       "</tr>\n",
       "<tr>\n",
       "  <th>throw_in</th>                    <td>   -0.0999</td> <td>    0.028</td> <td>   -3.585</td> <td> 0.000</td> <td>   -0.154</td> <td>   -0.045</td>\n",
       "</tr>\n",
       "</table>"
      ],
      "text/plain": [
       "<class 'statsmodels.iolib.summary.Summary'>\n",
       "\"\"\"\n",
       "                           Logit Regression Results                           \n",
       "==============================================================================\n",
       "Dep. Variable:                   goal   No. Observations:               134607\n",
       "Model:                          Logit   Df Residuals:                   134593\n",
       "Method:                           MLE   Df Model:                           13\n",
       "Date:                Wed, 05 Aug 2020   Pseudo R-squ.:                  0.1580\n",
       "Time:                        03:32:07   Log-Likelihood:                -38007.\n",
       "converged:                       True   LL-Null:                       -45138.\n",
       "Covariance Type:            nonrobust   LLR p-value:                     0.000\n",
       "===============================================================================================\n",
       "                                  coef    std err          z      P>|z|      [0.025      0.975]\n",
       "-----------------------------------------------------------------------------------------------\n",
       "Intercept                      -3.3912      0.028   -119.043      0.000      -3.447      -3.335\n",
       "dist_std                       -0.9582      0.020    -46.964      0.000      -0.998      -0.918\n",
       "ang_std                         0.3553      0.013     28.345      0.000       0.331       0.380\n",
       "kicked                          0.9710      0.034     28.641      0.000       0.905       1.037\n",
       "side_of_field_matching_foot     0.0136      0.012      1.141      0.254      -0.010       0.037\n",
       "send_off_diff                  -0.0299      0.021     -1.420      0.156      -0.071       0.011\n",
       "dominant_foot                  -0.0259      0.025     -1.054      0.292      -0.074       0.022\n",
       "corner                         -0.1118      0.030     -3.766      0.000      -0.170      -0.054\n",
       "free_kick                       0.0343      0.035      0.980      0.327      -0.034       0.103\n",
       "free_kick_cross                -0.0961      0.044     -2.190      0.029      -0.182      -0.010\n",
       "free_kick_shot                 -0.3897      0.122     -3.186      0.001      -0.629      -0.150\n",
       "goal_kick                       0.1060      0.049      2.176      0.030       0.011       0.201\n",
       "penalty                         0.2308      0.197      1.172      0.241      -0.155       0.617\n",
       "throw_in                       -0.0999      0.028     -3.585      0.000      -0.154      -0.045\n",
       "===============================================================================================\n",
       "\"\"\""
      ]
     },
     "execution_count": 25,
     "metadata": {},
     "output_type": "execute_result"
    }
   ],
   "source": [
    "features_std = [\n",
    "       'dist_std',\n",
    "       'ang_std', 'kicked', 'side_of_field_matching_foot',\n",
    "       'send_off_diff', 'dominant_foot', 'corner',\n",
    "       'free_kick', 'free_kick_cross', 'free_kick_shot', 'goal_kick',\n",
    "       'penalty', 'throw_in']\n",
    "\n",
    "features_formula = \" + \".join(features_std)\n",
    "model_string = \" ~ \".join([target, features_formula])\n",
    "fit_sm = smf.logit(model_string, train_df).fit()\n",
    "fit_sm.summary()"
   ]
  },
  {
   "cell_type": "markdown",
   "metadata": {},
   "source": [
    "## Finalizing the Model"
   ]
  },
  {
   "cell_type": "code",
   "execution_count": 26,
   "metadata": {},
   "outputs": [
    {
     "name": "stdout",
     "output_type": "stream",
     "text": [
      "Optimization terminated successfully.\n",
      "         Current function value: 0.282365\n",
      "         Iterations 8\n"
     ]
    },
    {
     "data": {
      "text/html": [
       "<table class=\"simpletable\">\n",
       "<caption>Logit Regression Results</caption>\n",
       "<tr>\n",
       "  <th>Dep. Variable:</th>         <td>goal</td>       <th>  No. Observations:  </th>  <td>134607</td> \n",
       "</tr>\n",
       "<tr>\n",
       "  <th>Model:</th>                 <td>Logit</td>      <th>  Df Residuals:      </th>  <td>134595</td> \n",
       "</tr>\n",
       "<tr>\n",
       "  <th>Method:</th>                 <td>MLE</td>       <th>  Df Model:          </th>  <td>    11</td> \n",
       "</tr>\n",
       "<tr>\n",
       "  <th>Date:</th>            <td>Wed, 05 Aug 2020</td> <th>  Pseudo R-squ.:     </th>  <td>0.1580</td> \n",
       "</tr>\n",
       "<tr>\n",
       "  <th>Time:</th>                <td>03:32:08</td>     <th>  Log-Likelihood:    </th> <td> -38008.</td>\n",
       "</tr>\n",
       "<tr>\n",
       "  <th>converged:</th>             <td>True</td>       <th>  LL-Null:           </th> <td> -45138.</td>\n",
       "</tr>\n",
       "<tr>\n",
       "  <th>Covariance Type:</th>     <td>nonrobust</td>    <th>  LLR p-value:       </th>  <td> 0.000</td> \n",
       "</tr>\n",
       "</table>\n",
       "<table class=\"simpletable\">\n",
       "<tr>\n",
       "               <td></td>                  <th>coef</th>     <th>std err</th>      <th>z</th>      <th>P>|z|</th>  <th>[0.025</th>    <th>0.975]</th>  \n",
       "</tr>\n",
       "<tr>\n",
       "  <th>Intercept</th>                   <td>   -3.3926</td> <td>    0.028</td> <td> -119.183</td> <td> 0.000</td> <td>   -3.448</td> <td>   -3.337</td>\n",
       "</tr>\n",
       "<tr>\n",
       "  <th>dist_std</th>                    <td>   -0.9580</td> <td>    0.020</td> <td>  -46.958</td> <td> 0.000</td> <td>   -0.998</td> <td>   -0.918</td>\n",
       "</tr>\n",
       "<tr>\n",
       "  <th>ang_std</th>                     <td>    0.3553</td> <td>    0.013</td> <td>   28.343</td> <td> 0.000</td> <td>    0.331</td> <td>    0.380</td>\n",
       "</tr>\n",
       "<tr>\n",
       "  <th>kicked</th>                      <td>    0.9939</td> <td>    0.026</td> <td>   38.418</td> <td> 0.000</td> <td>    0.943</td> <td>    1.045</td>\n",
       "</tr>\n",
       "<tr>\n",
       "  <th>side_of_field_matching_foot</th> <td>    0.0142</td> <td>    0.012</td> <td>    1.184</td> <td> 0.236</td> <td>   -0.009</td> <td>    0.038</td>\n",
       "</tr>\n",
       "<tr>\n",
       "  <th>corner</th>                      <td>   -0.1111</td> <td>    0.030</td> <td>   -3.744</td> <td> 0.000</td> <td>   -0.169</td> <td>   -0.053</td>\n",
       "</tr>\n",
       "<tr>\n",
       "  <th>free_kick</th>                   <td>    0.0343</td> <td>    0.035</td> <td>    0.980</td> <td> 0.327</td> <td>   -0.034</td> <td>    0.103</td>\n",
       "</tr>\n",
       "<tr>\n",
       "  <th>free_kick_cross</th>             <td>   -0.0958</td> <td>    0.044</td> <td>   -2.183</td> <td> 0.029</td> <td>   -0.182</td> <td>   -0.010</td>\n",
       "</tr>\n",
       "<tr>\n",
       "  <th>free_kick_shot</th>              <td>   -0.3890</td> <td>    0.122</td> <td>   -3.180</td> <td> 0.001</td> <td>   -0.629</td> <td>   -0.149</td>\n",
       "</tr>\n",
       "<tr>\n",
       "  <th>goal_kick</th>                   <td>    0.1058</td> <td>    0.049</td> <td>    2.172</td> <td> 0.030</td> <td>    0.010</td> <td>    0.201</td>\n",
       "</tr>\n",
       "<tr>\n",
       "  <th>penalty</th>                     <td>    0.2311</td> <td>    0.197</td> <td>    1.173</td> <td> 0.241</td> <td>   -0.155</td> <td>    0.617</td>\n",
       "</tr>\n",
       "<tr>\n",
       "  <th>throw_in</th>                    <td>   -0.0997</td> <td>    0.028</td> <td>   -3.579</td> <td> 0.000</td> <td>   -0.154</td> <td>   -0.045</td>\n",
       "</tr>\n",
       "</table>"
      ],
      "text/plain": [
       "<class 'statsmodels.iolib.summary.Summary'>\n",
       "\"\"\"\n",
       "                           Logit Regression Results                           \n",
       "==============================================================================\n",
       "Dep. Variable:                   goal   No. Observations:               134607\n",
       "Model:                          Logit   Df Residuals:                   134595\n",
       "Method:                           MLE   Df Model:                           11\n",
       "Date:                Wed, 05 Aug 2020   Pseudo R-squ.:                  0.1580\n",
       "Time:                        03:32:08   Log-Likelihood:                -38008.\n",
       "converged:                       True   LL-Null:                       -45138.\n",
       "Covariance Type:            nonrobust   LLR p-value:                     0.000\n",
       "===============================================================================================\n",
       "                                  coef    std err          z      P>|z|      [0.025      0.975]\n",
       "-----------------------------------------------------------------------------------------------\n",
       "Intercept                      -3.3926      0.028   -119.183      0.000      -3.448      -3.337\n",
       "dist_std                       -0.9580      0.020    -46.958      0.000      -0.998      -0.918\n",
       "ang_std                         0.3553      0.013     28.343      0.000       0.331       0.380\n",
       "kicked                          0.9939      0.026     38.418      0.000       0.943       1.045\n",
       "side_of_field_matching_foot     0.0142      0.012      1.184      0.236      -0.009       0.038\n",
       "corner                         -0.1111      0.030     -3.744      0.000      -0.169      -0.053\n",
       "free_kick                       0.0343      0.035      0.980      0.327      -0.034       0.103\n",
       "free_kick_cross                -0.0958      0.044     -2.183      0.029      -0.182      -0.010\n",
       "free_kick_shot                 -0.3890      0.122     -3.180      0.001      -0.629      -0.149\n",
       "goal_kick                       0.1058      0.049      2.172      0.030       0.010       0.201\n",
       "penalty                         0.2311      0.197      1.173      0.241      -0.155       0.617\n",
       "throw_in                       -0.0997      0.028     -3.579      0.000      -0.154      -0.045\n",
       "===============================================================================================\n",
       "\"\"\""
      ]
     },
     "execution_count": 26,
     "metadata": {},
     "output_type": "execute_result"
    }
   ],
   "source": [
    "features_downselect = [\n",
    "    'dist_std', 'ang_std', 'kicked', \n",
    "    'side_of_field_matching_foot',\n",
    "    'corner', 'free_kick', 'free_kick_cross', \n",
    "    'free_kick_shot', 'goal_kick',\n",
    "    'penalty', 'throw_in']\n",
    "features_formula = \" + \".join(features_downselect)\n",
    "model_string = \" ~ \".join([target, features_formula])\n",
    "fit_sm = smf.logit(model_string, train_df).fit()\n",
    "fit_sm.summary()"
   ]
  },
  {
   "cell_type": "code",
   "execution_count": 27,
   "metadata": {},
   "outputs": [
    {
     "name": "stdout",
     "output_type": "stream",
     "text": [
      "optimal threshold    : 0.175\n",
      "f1 score at threshold:  0.372\n"
     ]
    },
    {
     "data": {
      "image/png": "[encoded data removed]",
      "text/plain": [
       "<Figure size 432x288 with 1 Axes>"
      ]
     },
     "metadata": {
      "needs_background": "light"
     },
     "output_type": "display_data"
    }
   ],
   "source": [
    "y_train_proba = fit_sm.predict(train_df[features_downselect])\n",
    "\n",
    "opt_f1_ds, opt_threshold_ds = plot_f1_over_thresholds(y_train_proba, y)\n",
    "print(f'optimal threshold    :{opt_threshold_ds: .4}\\nf1 score at threshold: {opt_f1_ds: .3}')"
   ]
  },
  {
   "cell_type": "code",
   "execution_count": 28,
   "metadata": {},
   "outputs": [
    {
     "name": "stdout",
     "output_type": "stream",
     "text": [
      "Validation F1 Score:  0.366\n"
     ]
    }
   ],
   "source": [
    "y_val_proba = fit_sm.predict(val_df[features_downselect])\n",
    "y_val_pred = y_val_proba > opt_threshold_ds\n",
    "\n",
    "val_f1 = f1_score(y_true_val, y_val_pred)\n",
    "print(f'Validation F1 Score: {val_f1: .3f}')"
   ]
  },
  {
   "cell_type": "markdown",
   "metadata": {},
   "source": [
    "## Final training on whole training set to get test score"
   ]
  },
  {
   "cell_type": "code",
   "execution_count": 29,
   "metadata": {},
   "outputs": [
    {
     "name": "stdout",
     "output_type": "stream",
     "text": [
      "Optimization terminated successfully.\n",
      "         Current function value: 0.281892\n",
      "         Iterations 8\n"
     ]
    },
    {
     "data": {
      "text/html": [
       "<table class=\"simpletable\">\n",
       "<caption>Logit Regression Results</caption>\n",
       "<tr>\n",
       "  <th>Dep. Variable:</th>         <td>goal</td>       <th>  No. Observations:  </th>  <td>179476</td> \n",
       "</tr>\n",
       "<tr>\n",
       "  <th>Model:</th>                 <td>Logit</td>      <th>  Df Residuals:      </th>  <td>179464</td> \n",
       "</tr>\n",
       "<tr>\n",
       "  <th>Method:</th>                 <td>MLE</td>       <th>  Df Model:          </th>  <td>    11</td> \n",
       "</tr>\n",
       "<tr>\n",
       "  <th>Date:</th>            <td>Wed, 05 Aug 2020</td> <th>  Pseudo R-squ.:     </th>  <td>0.1566</td> \n",
       "</tr>\n",
       "<tr>\n",
       "  <th>Time:</th>                <td>03:32:23</td>     <th>  Log-Likelihood:    </th> <td> -50593.</td>\n",
       "</tr>\n",
       "<tr>\n",
       "  <th>converged:</th>             <td>True</td>       <th>  LL-Null:           </th> <td> -59985.</td>\n",
       "</tr>\n",
       "<tr>\n",
       "  <th>Covariance Type:</th>     <td>nonrobust</td>    <th>  LLR p-value:       </th>  <td> 0.000</td> \n",
       "</tr>\n",
       "</table>\n",
       "<table class=\"simpletable\">\n",
       "<tr>\n",
       "               <td></td>                  <th>coef</th>     <th>std err</th>      <th>z</th>      <th>P>|z|</th>  <th>[0.025</th>    <th>0.975]</th>  \n",
       "</tr>\n",
       "<tr>\n",
       "  <th>Intercept</th>                   <td>   -3.4000</td> <td>    0.025</td> <td> -137.406</td> <td> 0.000</td> <td>   -3.448</td> <td>   -3.351</td>\n",
       "</tr>\n",
       "<tr>\n",
       "  <th>dist_std</th>                    <td>   -0.9434</td> <td>    0.018</td> <td>  -53.560</td> <td> 0.000</td> <td>   -0.978</td> <td>   -0.909</td>\n",
       "</tr>\n",
       "<tr>\n",
       "  <th>ang_std</th>                     <td>    0.3603</td> <td>    0.011</td> <td>   33.175</td> <td> 0.000</td> <td>    0.339</td> <td>    0.382</td>\n",
       "</tr>\n",
       "<tr>\n",
       "  <th>kicked</th>                      <td>    1.0029</td> <td>    0.023</td> <td>   44.516</td> <td> 0.000</td> <td>    0.959</td> <td>    1.047</td>\n",
       "</tr>\n",
       "<tr>\n",
       "  <th>side_of_field_matching_foot</th> <td>    0.0156</td> <td>    0.010</td> <td>    1.508</td> <td> 0.132</td> <td>   -0.005</td> <td>    0.036</td>\n",
       "</tr>\n",
       "<tr>\n",
       "  <th>corner</th>                      <td>   -0.1150</td> <td>    0.026</td> <td>   -4.463</td> <td> 0.000</td> <td>   -0.166</td> <td>   -0.065</td>\n",
       "</tr>\n",
       "<tr>\n",
       "  <th>free_kick</th>                   <td>    0.0360</td> <td>    0.030</td> <td>    1.187</td> <td> 0.235</td> <td>   -0.023</td> <td>    0.095</td>\n",
       "</tr>\n",
       "<tr>\n",
       "  <th>free_kick_cross</th>             <td>   -0.0960</td> <td>    0.038</td> <td>   -2.520</td> <td> 0.012</td> <td>   -0.171</td> <td>   -0.021</td>\n",
       "</tr>\n",
       "<tr>\n",
       "  <th>free_kick_shot</th>              <td>   -0.3515</td> <td>    0.105</td> <td>   -3.357</td> <td> 0.001</td> <td>   -0.557</td> <td>   -0.146</td>\n",
       "</tr>\n",
       "<tr>\n",
       "  <th>goal_kick</th>                   <td>    0.1055</td> <td>    0.042</td> <td>    2.503</td> <td> 0.012</td> <td>    0.023</td> <td>    0.188</td>\n",
       "</tr>\n",
       "<tr>\n",
       "  <th>penalty</th>                     <td>    0.2641</td> <td>    0.170</td> <td>    1.556</td> <td> 0.120</td> <td>   -0.069</td> <td>    0.597</td>\n",
       "</tr>\n",
       "<tr>\n",
       "  <th>throw_in</th>                    <td>   -0.0972</td> <td>    0.024</td> <td>   -4.024</td> <td> 0.000</td> <td>   -0.145</td> <td>   -0.050</td>\n",
       "</tr>\n",
       "</table>"
      ],
      "text/plain": [
       "<class 'statsmodels.iolib.summary.Summary'>\n",
       "\"\"\"\n",
       "                           Logit Regression Results                           \n",
       "==============================================================================\n",
       "Dep. Variable:                   goal   No. Observations:               179476\n",
       "Model:                          Logit   Df Residuals:                   179464\n",
       "Method:                           MLE   Df Model:                           11\n",
       "Date:                Wed, 05 Aug 2020   Pseudo R-squ.:                  0.1566\n",
       "Time:                        03:32:23   Log-Likelihood:                -50593.\n",
       "converged:                       True   LL-Null:                       -59985.\n",
       "Covariance Type:            nonrobust   LLR p-value:                     0.000\n",
       "===============================================================================================\n",
       "                                  coef    std err          z      P>|z|      [0.025      0.975]\n",
       "-----------------------------------------------------------------------------------------------\n",
       "Intercept                      -3.4000      0.025   -137.406      0.000      -3.448      -3.351\n",
       "dist_std                       -0.9434      0.018    -53.560      0.000      -0.978      -0.909\n",
       "ang_std                         0.3603      0.011     33.175      0.000       0.339       0.382\n",
       "kicked                          1.0029      0.023     44.516      0.000       0.959       1.047\n",
       "side_of_field_matching_foot     0.0156      0.010      1.508      0.132      -0.005       0.036\n",
       "corner                         -0.1150      0.026     -4.463      0.000      -0.166      -0.065\n",
       "free_kick                       0.0360      0.030      1.187      0.235      -0.023       0.095\n",
       "free_kick_cross                -0.0960      0.038     -2.520      0.012      -0.171      -0.021\n",
       "free_kick_shot                 -0.3515      0.105     -3.357      0.001      -0.557      -0.146\n",
       "goal_kick                       0.1055      0.042      2.503      0.012       0.023       0.188\n",
       "penalty                         0.2641      0.170      1.556      0.120      -0.069       0.597\n",
       "throw_in                       -0.0972      0.024     -4.024      0.000      -0.145      -0.050\n",
       "===============================================================================================\n",
       "\"\"\""
      ]
     },
     "execution_count": 29,
     "metadata": {},
     "output_type": "execute_result"
    }
   ],
   "source": [
    "fit_sm_final = smf.logit(model_string, train_val_df).fit()\n",
    "fit_sm_final.summary()"
   ]
  },
  {
   "cell_type": "code",
   "execution_count": 30,
   "metadata": {},
   "outputs": [
    {
     "name": "stdout",
     "output_type": "stream",
     "text": [
      "optimal threshold    : 0.175\n",
      "f1 score at threshold:  0.37\n"
     ]
    },
    {
     "data": {
      "image/png": "[encoded data removed]",
      "text/plain": [
       "<Figure size 432x288 with 1 Axes>"
      ]
     },
     "metadata": {
      "needs_background": "light"
     },
     "output_type": "display_data"
    }
   ],
   "source": [
    "y_proba = fit_sm.predict(train_val_df[features_downselect])\n",
    "y_train_val = train_val_df[target]\n",
    "opt_f1_final, opt_threshold_final = plot_f1_over_thresholds(y_proba, y_train_val)\n",
    "print(f'optimal threshold    :{opt_threshold_final: .4}\\nf1 score at threshold: {opt_f1_final: .3}')"
   ]
  },
  {
   "cell_type": "code",
   "execution_count": 31,
   "metadata": {},
   "outputs": [
    {
     "name": "stdout",
     "output_type": "stream",
     "text": [
      "Test F1 Score:  0.129\n"
     ]
    }
   ],
   "source": [
    "y_proba = fit_sm.predict(test_df[features_downselect])\n",
    "y_pred = y_val_proba > opt_threshold_final\n",
    "y_test = test_df[target]\n",
    "\n",
    "test_f1 = f1_score(y_test, y_pred)\n",
    "print(f'Test F1 Score: {test_f1: .3f}')"
   ]
  },
  {
   "cell_type": "markdown",
   "metadata": {},
   "source": [
    "### Some interesting test points\n",
    "1. medium far shot\n",
    "<img src=\"./extras/big_angle_mid.png\" width=\"1000\" style=\"display: block; margin-left: auto; margin-right: auto; width: 75%;\">\n",
    "\n",
    "<div align=\"center\"> Generated in <a href=\"https://www.geogebra.org/\">geogebra</a> </div>\n",
    "\n",
    "2. far shot\n",
    "<img src=\"./extras/small_angle_mid.png\" width=\"1000\" style=\"display: block; margin-left: auto; margin-right: auto; width: 75%;\">\n",
    "\n",
    "<div align=\"center\"> Generated in <a href=\"https://www.geogebra.org/\">geogebra</a> </div>\n",
    "\n",
    "\n",
    "3. same angle as the previous shot but the same distance as the first\n",
    "<img src=\"./extras/small_angle_side.png\" width=\"1000\" style=\"display: block; margin-left: auto; margin-right: auto; width: 75%;\">\n",
    "\n",
    "<div align=\"center\"> Generated in <a href=\"https://www.geogebra.org/\">geogebra</a> </div>\n",
    "\n",
    "\n",
    "4. same angle as the first but closer (not in the center)\n",
    "<img src=\"./extras/big_angle_side.png\" width=\"1000\" style=\"display: block; margin-left: auto; margin-right: auto; width: 75%;\">\n",
    "\n",
    "<div align=\"center\"> Generated in <a href=\"https://www.geogebra.org/\">geogebra</a> </div>\n",
    "\n",
    "5. From 12 yards out center of goal (penalty spot)\n",
    "\n",
    "6. From 6 yards out center of goal (goal box)\n",
    "\n",
    "7. From 4 yards out center of goal\n",
    "\n",
    "8. Wondo's shot in the world cup\n",
    "<img src=\"https://64.media.tumblr.com/c4561c9e8c9e87c5b7fea376f1c95472/tumblr_n82rypxL8S1qcrctyo1_500.gif\" width=\"1000\" style=\"display: block; margin-left: auto; margin-right: auto; width: 50%;\">\n",
    "<div align=\"center\"> Source <a href=\"https://ftw.usatoday.com/2017/04/this-chris-wondolowski-miss-mls-world-cup-2014-video-san-jose\">USA Today</a> </div>\n",
    "\n",
    "\n",
    "<img src=\"./extras/wondo_world_cup.png\" width=\"1000\" style=\"display: block; margin-left: auto; margin-right: auto; width: 75%;\">\n",
    "\n",
    "<div align=\"center\"> Generated in <a href=\"https://www.geogebra.org/\">geogebra</a> </div>\n"
   ]
  },
  {
   "cell_type": "code",
   "execution_count": 32,
   "metadata": {},
   "outputs": [
    {
     "data": {
      "text/plain": [
       "0    0.225368\n",
       "1    0.196598\n",
       "2    0.197506\n",
       "3    0.224970\n",
       "4    0.282273\n",
       "5    0.463439\n",
       "6    0.607984\n",
       "7    0.612891\n",
       "dtype: float64"
      ]
     },
     "execution_count": 32,
     "metadata": {},
     "output_type": "execute_result"
    }
   ],
   "source": [
    "distances = 1 - (np.array([18, 18, 24.71, 15.3304, 12, 6, 4, 7]).reshape(-1,1)/120 )\n",
    "angles_rad = np.array([25.0576, 18.3903, 18.3903, 25.0576, 36.8699, 67.3801, 90, 55.2]).reshape(-1,1) * np.pi/180\n",
    "\n",
    "test_points = pd.DataFrame(np.zeros([len(distances), len(features_downselect)]), columns=features_downselect)\n",
    "\n",
    "test_points.loc[7, 'kicked'] = 1\n",
    "test_points.loc[7, 'side_of_field_matching_foot'] = 1\n",
    "test_points.loc[7, 'throw_in'] = 1\n",
    "\n",
    "\n",
    "dist_std_syn = dist_scaler.transform(distances)\n",
    "ang_std_syn = ang_scaler.transform(angles_rad)\n",
    "\n",
    "test_points['dist_std'] = dist_std_syn\n",
    "test_points['ang_std'] = ang_std_syn\n",
    "\n",
    "fit_sm_final.predict(test_points)"
   ]
  },
  {
   "cell_type": "markdown",
   "metadata": {},
   "source": [
    "# Appendices"
   ]
  },
  {
   "cell_type": "code",
   "execution_count": 33,
   "metadata": {},
   "outputs": [
    {
     "name": "stdout",
     "output_type": "stream",
     "text": [
      "Optimization terminated successfully.\n",
      "         Current function value: 0.291722\n",
      "         Iterations 7\n",
      "Optimization terminated successfully.\n",
      "         Current function value: 0.296032\n",
      "         Iterations 7\n",
      "Optimization terminated successfully.\n",
      "         Current function value: 0.334881\n",
      "         Iterations 6\n",
      "Optimization terminated successfully.\n",
      "         Current function value: 0.335167\n",
      "         Iterations 6\n",
      "Optimization terminated successfully.\n",
      "         Current function value: 0.335325\n",
      "         Iterations 6\n",
      "Optimization terminated successfully.\n",
      "         Current function value: 0.335161\n",
      "         Iterations 6\n",
      "Optimization terminated successfully.\n",
      "         Current function value: 0.335317\n",
      "         Iterations 6\n",
      "Optimization terminated successfully.\n",
      "         Current function value: 0.335323\n",
      "         Iterations 6\n",
      "Optimization terminated successfully.\n",
      "         Current function value: 0.335313\n",
      "         Iterations 6\n",
      "Optimization terminated successfully.\n",
      "         Current function value: 0.335277\n",
      "         Iterations 6\n",
      "Optimization terminated successfully.\n",
      "         Current function value: 0.335304\n",
      "         Iterations 6\n",
      "Optimization terminated successfully.\n",
      "         Current function value: 0.335320\n",
      "         Iterations 6\n",
      "Optimization terminated successfully.\n",
      "         Current function value: 0.335259\n",
      "         Iterations 6\n"
     ]
    }
   ],
   "source": [
    "summaries = []\n",
    "for feature in features_all:\n",
    "    fit_sm = smf.logit(f'goal ~ {feature}', train_df).fit()\n",
    "    summaries.append(fit_sm.summary())"
   ]
  },
  {
   "cell_type": "markdown",
   "metadata": {},
   "source": [
    "## Non Linear Models\n",
    " - Random Forest\n",
    " - adaboost\n",
    " - Extra Trees\n",
    "\n",
    "While Non Linear Models did increase pridictive power ultimately a linear model was chosen for its interpretability"
   ]
  },
  {
   "cell_type": "code",
   "execution_count": 34,
   "metadata": {},
   "outputs": [],
   "source": [
    "features_nl = [\n",
    "       'distance_to_goal_mid',\n",
    "       'angular_size_rad_goal', 'kicked', 'side_of_field_matching_foot',\n",
    "       'send_off_diff', 'dominant_foot', 'corner',\n",
    "       'free_kick', 'free_kick_cross', 'free_kick_shot', 'goal_kick',\n",
    "       'penalty', 'throw_in']\n",
    "features_continuous = ['distance_to_goal_mid',\n",
    "       'distance_to_goal_nearest', 'angular_size_rad_goal',\n",
    "       'projected_size_yds_goal']\n",
    "features_discrete = ['kicked', 'side_of_field_matching_foot',\n",
    "       'send_off_diff', 'dominant_foot', 'corner',\n",
    "       'free_kick', 'free_kick_cross', 'free_kick_shot', 'goal_kick',\n",
    "       'penalty', 'throw_in']"
   ]
  },
  {
   "cell_type": "code",
   "execution_count": 35,
   "metadata": {},
   "outputs": [],
   "source": [
    "models = {'rand_forest': RandomForestClassifier, 'ada': AdaBoostClassifier, 'ex_trees': ExtraTreesClassifier}"
   ]
  },
  {
   "cell_type": "code",
   "execution_count": 36,
   "metadata": {},
   "outputs": [],
   "source": [
    "folds = KFold(shuffle=True, random_state=919627)"
   ]
  },
  {
   "cell_type": "code",
   "execution_count": 37,
   "metadata": {},
   "outputs": [],
   "source": [
    "fits =  {}\n",
    "f1_scores_by_model = defaultdict(list)\n",
    "\n",
    "\n",
    "for loop_ind, (train, val) in enumerate(folds.split(train_df)):  # 5 folds\n",
    "    training_set = train_df.iloc[train]\n",
    "    validation_set = train_df.iloc[val]\n",
    "    X_ts = training_set[features_nl]\n",
    "    y_ts = training_set[target]\n",
    "    X_vs = validation_set[features_nl]\n",
    "    y_vs = validation_set[target]\n",
    "    for model in models.keys():  # 2 models\n",
    "        fits[f'{model}_{loop_ind}'] = models[model]().fit(X_ts, y_ts)\n",
    "        y_pred_ts = fits[f'{model}_{loop_ind}'].predict(X_ts)\n",
    "        y_pred_vs = fits[f'{model}_{loop_ind}'].predict(X_vs)\n",
    "        f1_scores_by_model[model + '_train'].append(f1_score(y_pred_ts, y_ts))\n",
    "        f1_scores_by_model[model + '_val'].append(f1_score(y_pred_vs, y_vs))\n",
    "        "
   ]
  },
  {
   "cell_type": "code",
   "execution_count": 38,
   "metadata": {},
   "outputs": [
    {
     "name": "stdout",
     "output_type": "stream",
     "text": [
      "Mean F1 Score Across 5 folds\n",
      "rand_forest_train   :  0.563 ±  0.003\n",
      "rand_forest_val     :  0.490 ±  0.005\n",
      "ada_train           :  0.163 ±  0.012\n",
      "ada_val             :  0.160 ±  0.011\n",
      "ex_trees_train      :  0.551 ±  0.003\n",
      "ex_trees_val        :  0.480 ±  0.005\n"
     ]
    }
   ],
   "source": [
    "print(f'Mean F1 Score Across {folds.get_n_splits()} folds')\n",
    "for key in f1_scores_by_model.keys():\n",
    "    mean = np.mean(f1_scores_by_model[key])\n",
    "    std = np.std(f1_scores_by_model[key])\n",
    "    print(f'{key:<20}: {mean: 6.3f} ± {std: 5.3f}')\n",
    "    "
   ]
  },
  {
   "cell_type": "code",
   "execution_count": 39,
   "metadata": {},
   "outputs": [
    {
     "name": "stdout",
     "output_type": "stream",
     "text": [
      "rand_forest_0\n",
      "ada_0\n",
      "ex_trees_0\n",
      "rand_forest_1\n",
      "ada_1\n",
      "ex_trees_1\n",
      "rand_forest_2\n",
      "ada_2\n",
      "ex_trees_2\n",
      "rand_forest_3\n",
      "ada_3\n",
      "ex_trees_3\n",
      "rand_forest_4\n",
      "ada_4\n",
      "ex_trees_4\n"
     ]
    }
   ],
   "source": [
    "rand_for = pd.DataFrame(index=features_nl)\n",
    "ex_tree = pd.DataFrame(index=features_nl)\n",
    "ada = pd.DataFrame(index=features_nl)\n",
    "for key in fits.keys():\n",
    "    impor = pd.Series(fits[key].feature_importances_, index=features_nl, name=key)\n",
    "    if key.startswith('r'):\n",
    "        print(key)\n",
    "        rand_for[key] = impor\n",
    "    elif key.startswith('e'):\n",
    "        print(key)\n",
    "        ex_tree[key] = impor\n",
    "    else:\n",
    "        print(key)\n",
    "        ada[key] = impor\n",
    "\n",
    "f_imp = pd.merge(rand_for, ada, left_index=True, right_index=True)\n",
    "f_imp = pd.merge(f_imp, ex_tree, left_index=True, right_index=True)"
   ]
  },
  {
   "cell_type": "code",
   "execution_count": 40,
   "metadata": {},
   "outputs": [
    {
     "data": {
      "text/html": [
       "<div>\n",
       "<style scoped>\n",
       "    .dataframe tbody tr th:only-of-type {\n",
       "        vertical-align: middle;\n",
       "    }\n",
       "\n",
       "    .dataframe tbody tr th {\n",
       "        vertical-align: top;\n",
       "    }\n",
       "\n",
       "    .dataframe thead th {\n",
       "        text-align: right;\n",
       "    }\n",
       "</style>\n",
       "<table border=\"1\" class=\"dataframe\">\n",
       "  <thead>\n",
       "    <tr style=\"text-align: right;\">\n",
       "      <th></th>\n",
       "      <th>distance_to_goal_mid</th>\n",
       "      <th>angular_size_rad_goal</th>\n",
       "      <th>send_off_diff</th>\n",
       "      <th>side_of_field_matching_foot</th>\n",
       "      <th>dominant_foot</th>\n",
       "      <th>corner</th>\n",
       "      <th>throw_in</th>\n",
       "      <th>free_kick</th>\n",
       "      <th>free_kick_cross</th>\n",
       "      <th>goal_kick</th>\n",
       "      <th>kicked</th>\n",
       "      <th>free_kick_shot</th>\n",
       "      <th>penalty</th>\n",
       "    </tr>\n",
       "  </thead>\n",
       "  <tbody>\n",
       "    <tr>\n",
       "      <th>count</th>\n",
       "      <td>5.000000</td>\n",
       "      <td>5.000000</td>\n",
       "      <td>5.000000</td>\n",
       "      <td>5.000000</td>\n",
       "      <td>5.000000</td>\n",
       "      <td>5.000000</td>\n",
       "      <td>5.000000</td>\n",
       "      <td>5.000000</td>\n",
       "      <td>5.000000</td>\n",
       "      <td>5.000000</td>\n",
       "      <td>5.000000</td>\n",
       "      <td>5.000000</td>\n",
       "      <td>5.000000</td>\n",
       "    </tr>\n",
       "    <tr>\n",
       "      <th>mean</th>\n",
       "      <td>0.407345</td>\n",
       "      <td>0.386809</td>\n",
       "      <td>0.064542</td>\n",
       "      <td>0.023417</td>\n",
       "      <td>0.020371</td>\n",
       "      <td>0.017969</td>\n",
       "      <td>0.018734</td>\n",
       "      <td>0.017331</td>\n",
       "      <td>0.012676</td>\n",
       "      <td>0.011846</td>\n",
       "      <td>0.012057</td>\n",
       "      <td>0.004567</td>\n",
       "      <td>0.002337</td>\n",
       "    </tr>\n",
       "    <tr>\n",
       "      <th>std</th>\n",
       "      <td>0.006087</td>\n",
       "      <td>0.006525</td>\n",
       "      <td>0.002779</td>\n",
       "      <td>0.001207</td>\n",
       "      <td>0.001038</td>\n",
       "      <td>0.000554</td>\n",
       "      <td>0.001287</td>\n",
       "      <td>0.000548</td>\n",
       "      <td>0.000951</td>\n",
       "      <td>0.000526</td>\n",
       "      <td>0.000634</td>\n",
       "      <td>0.000300</td>\n",
       "      <td>0.000125</td>\n",
       "    </tr>\n",
       "    <tr>\n",
       "      <th>min</th>\n",
       "      <td>0.399124</td>\n",
       "      <td>0.377227</td>\n",
       "      <td>0.061455</td>\n",
       "      <td>0.021976</td>\n",
       "      <td>0.019135</td>\n",
       "      <td>0.017310</td>\n",
       "      <td>0.016893</td>\n",
       "      <td>0.016542</td>\n",
       "      <td>0.011675</td>\n",
       "      <td>0.010985</td>\n",
       "      <td>0.011388</td>\n",
       "      <td>0.004136</td>\n",
       "      <td>0.002114</td>\n",
       "    </tr>\n",
       "    <tr>\n",
       "      <th>25%</th>\n",
       "      <td>0.405005</td>\n",
       "      <td>0.384571</td>\n",
       "      <td>0.062670</td>\n",
       "      <td>0.022434</td>\n",
       "      <td>0.019359</td>\n",
       "      <td>0.017745</td>\n",
       "      <td>0.018182</td>\n",
       "      <td>0.017209</td>\n",
       "      <td>0.011773</td>\n",
       "      <td>0.011766</td>\n",
       "      <td>0.011546</td>\n",
       "      <td>0.004422</td>\n",
       "      <td>0.002372</td>\n",
       "    </tr>\n",
       "    <tr>\n",
       "      <th>50%</th>\n",
       "      <td>0.408136</td>\n",
       "      <td>0.388457</td>\n",
       "      <td>0.063725</td>\n",
       "      <td>0.023766</td>\n",
       "      <td>0.021005</td>\n",
       "      <td>0.017956</td>\n",
       "      <td>0.018923</td>\n",
       "      <td>0.017238</td>\n",
       "      <td>0.012683</td>\n",
       "      <td>0.011978</td>\n",
       "      <td>0.011914</td>\n",
       "      <td>0.004590</td>\n",
       "      <td>0.002391</td>\n",
       "    </tr>\n",
       "    <tr>\n",
       "      <th>75%</th>\n",
       "      <td>0.408572</td>\n",
       "      <td>0.388807</td>\n",
       "      <td>0.066915</td>\n",
       "      <td>0.023946</td>\n",
       "      <td>0.021016</td>\n",
       "      <td>0.018002</td>\n",
       "      <td>0.019357</td>\n",
       "      <td>0.017672</td>\n",
       "      <td>0.013615</td>\n",
       "      <td>0.012164</td>\n",
       "      <td>0.012652</td>\n",
       "      <td>0.004840</td>\n",
       "      <td>0.002398</td>\n",
       "    </tr>\n",
       "    <tr>\n",
       "      <th>max</th>\n",
       "      <td>0.415890</td>\n",
       "      <td>0.394982</td>\n",
       "      <td>0.067943</td>\n",
       "      <td>0.024961</td>\n",
       "      <td>0.021342</td>\n",
       "      <td>0.018830</td>\n",
       "      <td>0.020317</td>\n",
       "      <td>0.017994</td>\n",
       "      <td>0.013635</td>\n",
       "      <td>0.012336</td>\n",
       "      <td>0.012783</td>\n",
       "      <td>0.004847</td>\n",
       "      <td>0.002408</td>\n",
       "    </tr>\n",
       "  </tbody>\n",
       "</table>\n",
       "</div>"
      ],
      "text/plain": [
       "       distance_to_goal_mid  angular_size_rad_goal  send_off_diff  \\\n",
       "count              5.000000               5.000000       5.000000   \n",
       "mean               0.407345               0.386809       0.064542   \n",
       "std                0.006087               0.006525       0.002779   \n",
       "min                0.399124               0.377227       0.061455   \n",
       "25%                0.405005               0.384571       0.062670   \n",
       "50%                0.408136               0.388457       0.063725   \n",
       "75%                0.408572               0.388807       0.066915   \n",
       "max                0.415890               0.394982       0.067943   \n",
       "\n",
       "       side_of_field_matching_foot  dominant_foot    corner  throw_in  \\\n",
       "count                     5.000000       5.000000  5.000000  5.000000   \n",
       "mean                      0.023417       0.020371  0.017969  0.018734   \n",
       "std                       0.001207       0.001038  0.000554  0.001287   \n",
       "min                       0.021976       0.019135  0.017310  0.016893   \n",
       "25%                       0.022434       0.019359  0.017745  0.018182   \n",
       "50%                       0.023766       0.021005  0.017956  0.018923   \n",
       "75%                       0.023946       0.021016  0.018002  0.019357   \n",
       "max                       0.024961       0.021342  0.018830  0.020317   \n",
       "\n",
       "       free_kick  free_kick_cross  goal_kick    kicked  free_kick_shot  \\\n",
       "count   5.000000         5.000000   5.000000  5.000000        5.000000   \n",
       "mean    0.017331         0.012676   0.011846  0.012057        0.004567   \n",
       "std     0.000548         0.000951   0.000526  0.000634        0.000300   \n",
       "min     0.016542         0.011675   0.010985  0.011388        0.004136   \n",
       "25%     0.017209         0.011773   0.011766  0.011546        0.004422   \n",
       "50%     0.017238         0.012683   0.011978  0.011914        0.004590   \n",
       "75%     0.017672         0.013615   0.012164  0.012652        0.004840   \n",
       "max     0.017994         0.013635   0.012336  0.012783        0.004847   \n",
       "\n",
       "        penalty  \n",
       "count  5.000000  \n",
       "mean   0.002337  \n",
       "std    0.000125  \n",
       "min    0.002114  \n",
       "25%    0.002372  \n",
       "50%    0.002391  \n",
       "75%    0.002398  \n",
       "max    0.002408  "
      ]
     },
     "execution_count": 40,
     "metadata": {},
     "output_type": "execute_result"
    }
   ],
   "source": [
    "rand_for.sort_values('rand_forest_0', ascending=False).T.describe()"
   ]
  },
  {
   "cell_type": "code",
   "execution_count": 41,
   "metadata": {},
   "outputs": [
    {
     "data": {
      "text/html": [
       "<div>\n",
       "<style scoped>\n",
       "    .dataframe tbody tr th:only-of-type {\n",
       "        vertical-align: middle;\n",
       "    }\n",
       "\n",
       "    .dataframe tbody tr th {\n",
       "        vertical-align: top;\n",
       "    }\n",
       "\n",
       "    .dataframe thead th {\n",
       "        text-align: right;\n",
       "    }\n",
       "</style>\n",
       "<table border=\"1\" class=\"dataframe\">\n",
       "  <thead>\n",
       "    <tr style=\"text-align: right;\">\n",
       "      <th></th>\n",
       "      <th>distance_to_goal_mid</th>\n",
       "      <th>angular_size_rad_goal</th>\n",
       "      <th>kicked</th>\n",
       "      <th>send_off_diff</th>\n",
       "      <th>corner</th>\n",
       "      <th>free_kick_cross</th>\n",
       "      <th>throw_in</th>\n",
       "      <th>side_of_field_matching_foot</th>\n",
       "      <th>dominant_foot</th>\n",
       "      <th>free_kick</th>\n",
       "      <th>free_kick_shot</th>\n",
       "      <th>goal_kick</th>\n",
       "      <th>penalty</th>\n",
       "    </tr>\n",
       "  </thead>\n",
       "  <tbody>\n",
       "    <tr>\n",
       "      <th>count</th>\n",
       "      <td>5.000000</td>\n",
       "      <td>5.000000</td>\n",
       "      <td>5.000000</td>\n",
       "      <td>5.000000</td>\n",
       "      <td>5.000000</td>\n",
       "      <td>5.00</td>\n",
       "      <td>5.000000</td>\n",
       "      <td>5.0</td>\n",
       "      <td>5.000000</td>\n",
       "      <td>5.000000</td>\n",
       "      <td>5.000000</td>\n",
       "      <td>5.0</td>\n",
       "      <td>5.0</td>\n",
       "    </tr>\n",
       "    <tr>\n",
       "      <th>mean</th>\n",
       "      <td>0.596000</td>\n",
       "      <td>0.272000</td>\n",
       "      <td>0.036000</td>\n",
       "      <td>0.028000</td>\n",
       "      <td>0.008000</td>\n",
       "      <td>0.02</td>\n",
       "      <td>0.016000</td>\n",
       "      <td>0.0</td>\n",
       "      <td>0.008000</td>\n",
       "      <td>0.008000</td>\n",
       "      <td>0.008000</td>\n",
       "      <td>0.0</td>\n",
       "      <td>0.0</td>\n",
       "    </tr>\n",
       "    <tr>\n",
       "      <th>std</th>\n",
       "      <td>0.029665</td>\n",
       "      <td>0.010954</td>\n",
       "      <td>0.008944</td>\n",
       "      <td>0.010954</td>\n",
       "      <td>0.010954</td>\n",
       "      <td>0.00</td>\n",
       "      <td>0.008944</td>\n",
       "      <td>0.0</td>\n",
       "      <td>0.010954</td>\n",
       "      <td>0.010954</td>\n",
       "      <td>0.010954</td>\n",
       "      <td>0.0</td>\n",
       "      <td>0.0</td>\n",
       "    </tr>\n",
       "    <tr>\n",
       "      <th>min</th>\n",
       "      <td>0.560000</td>\n",
       "      <td>0.260000</td>\n",
       "      <td>0.020000</td>\n",
       "      <td>0.020000</td>\n",
       "      <td>0.000000</td>\n",
       "      <td>0.02</td>\n",
       "      <td>0.000000</td>\n",
       "      <td>0.0</td>\n",
       "      <td>0.000000</td>\n",
       "      <td>0.000000</td>\n",
       "      <td>0.000000</td>\n",
       "      <td>0.0</td>\n",
       "      <td>0.0</td>\n",
       "    </tr>\n",
       "    <tr>\n",
       "      <th>25%</th>\n",
       "      <td>0.580000</td>\n",
       "      <td>0.260000</td>\n",
       "      <td>0.040000</td>\n",
       "      <td>0.020000</td>\n",
       "      <td>0.000000</td>\n",
       "      <td>0.02</td>\n",
       "      <td>0.020000</td>\n",
       "      <td>0.0</td>\n",
       "      <td>0.000000</td>\n",
       "      <td>0.000000</td>\n",
       "      <td>0.000000</td>\n",
       "      <td>0.0</td>\n",
       "      <td>0.0</td>\n",
       "    </tr>\n",
       "    <tr>\n",
       "      <th>50%</th>\n",
       "      <td>0.600000</td>\n",
       "      <td>0.280000</td>\n",
       "      <td>0.040000</td>\n",
       "      <td>0.020000</td>\n",
       "      <td>0.000000</td>\n",
       "      <td>0.02</td>\n",
       "      <td>0.020000</td>\n",
       "      <td>0.0</td>\n",
       "      <td>0.000000</td>\n",
       "      <td>0.000000</td>\n",
       "      <td>0.000000</td>\n",
       "      <td>0.0</td>\n",
       "      <td>0.0</td>\n",
       "    </tr>\n",
       "    <tr>\n",
       "      <th>75%</th>\n",
       "      <td>0.600000</td>\n",
       "      <td>0.280000</td>\n",
       "      <td>0.040000</td>\n",
       "      <td>0.040000</td>\n",
       "      <td>0.020000</td>\n",
       "      <td>0.02</td>\n",
       "      <td>0.020000</td>\n",
       "      <td>0.0</td>\n",
       "      <td>0.020000</td>\n",
       "      <td>0.020000</td>\n",
       "      <td>0.020000</td>\n",
       "      <td>0.0</td>\n",
       "      <td>0.0</td>\n",
       "    </tr>\n",
       "    <tr>\n",
       "      <th>max</th>\n",
       "      <td>0.640000</td>\n",
       "      <td>0.280000</td>\n",
       "      <td>0.040000</td>\n",
       "      <td>0.040000</td>\n",
       "      <td>0.020000</td>\n",
       "      <td>0.02</td>\n",
       "      <td>0.020000</td>\n",
       "      <td>0.0</td>\n",
       "      <td>0.020000</td>\n",
       "      <td>0.020000</td>\n",
       "      <td>0.020000</td>\n",
       "      <td>0.0</td>\n",
       "      <td>0.0</td>\n",
       "    </tr>\n",
       "  </tbody>\n",
       "</table>\n",
       "</div>"
      ],
      "text/plain": [
       "       distance_to_goal_mid  angular_size_rad_goal    kicked  send_off_diff  \\\n",
       "count              5.000000               5.000000  5.000000       5.000000   \n",
       "mean               0.596000               0.272000  0.036000       0.028000   \n",
       "std                0.029665               0.010954  0.008944       0.010954   \n",
       "min                0.560000               0.260000  0.020000       0.020000   \n",
       "25%                0.580000               0.260000  0.040000       0.020000   \n",
       "50%                0.600000               0.280000  0.040000       0.020000   \n",
       "75%                0.600000               0.280000  0.040000       0.040000   \n",
       "max                0.640000               0.280000  0.040000       0.040000   \n",
       "\n",
       "         corner  free_kick_cross  throw_in  side_of_field_matching_foot  \\\n",
       "count  5.000000             5.00  5.000000                          5.0   \n",
       "mean   0.008000             0.02  0.016000                          0.0   \n",
       "std    0.010954             0.00  0.008944                          0.0   \n",
       "min    0.000000             0.02  0.000000                          0.0   \n",
       "25%    0.000000             0.02  0.020000                          0.0   \n",
       "50%    0.000000             0.02  0.020000                          0.0   \n",
       "75%    0.020000             0.02  0.020000                          0.0   \n",
       "max    0.020000             0.02  0.020000                          0.0   \n",
       "\n",
       "       dominant_foot  free_kick  free_kick_shot  goal_kick  penalty  \n",
       "count       5.000000   5.000000        5.000000        5.0      5.0  \n",
       "mean        0.008000   0.008000        0.008000        0.0      0.0  \n",
       "std         0.010954   0.010954        0.010954        0.0      0.0  \n",
       "min         0.000000   0.000000        0.000000        0.0      0.0  \n",
       "25%         0.000000   0.000000        0.000000        0.0      0.0  \n",
       "50%         0.000000   0.000000        0.000000        0.0      0.0  \n",
       "75%         0.020000   0.020000        0.020000        0.0      0.0  \n",
       "max         0.020000   0.020000        0.020000        0.0      0.0  "
      ]
     },
     "execution_count": 41,
     "metadata": {},
     "output_type": "execute_result"
    }
   ],
   "source": [
    "ada.sort_values('ada_0', ascending=False).T.describe()"
   ]
  },
  {
   "cell_type": "code",
   "execution_count": 42,
   "metadata": {},
   "outputs": [
    {
     "data": {
      "text/html": [
       "<div>\n",
       "<style scoped>\n",
       "    .dataframe tbody tr th:only-of-type {\n",
       "        vertical-align: middle;\n",
       "    }\n",
       "\n",
       "    .dataframe tbody tr th {\n",
       "        vertical-align: top;\n",
       "    }\n",
       "\n",
       "    .dataframe thead th {\n",
       "        text-align: right;\n",
       "    }\n",
       "</style>\n",
       "<table border=\"1\" class=\"dataframe\">\n",
       "  <thead>\n",
       "    <tr style=\"text-align: right;\">\n",
       "      <th></th>\n",
       "      <th>distance_to_goal_mid</th>\n",
       "      <th>angular_size_rad_goal</th>\n",
       "      <th>send_off_diff</th>\n",
       "      <th>side_of_field_matching_foot</th>\n",
       "      <th>dominant_foot</th>\n",
       "      <th>throw_in</th>\n",
       "      <th>free_kick</th>\n",
       "      <th>corner</th>\n",
       "      <th>kicked</th>\n",
       "      <th>free_kick_cross</th>\n",
       "      <th>goal_kick</th>\n",
       "      <th>free_kick_shot</th>\n",
       "      <th>penalty</th>\n",
       "    </tr>\n",
       "  </thead>\n",
       "  <tbody>\n",
       "    <tr>\n",
       "      <th>count</th>\n",
       "      <td>5.000000</td>\n",
       "      <td>5.000000</td>\n",
       "      <td>5.000000</td>\n",
       "      <td>5.000000</td>\n",
       "      <td>5.000000</td>\n",
       "      <td>5.000000</td>\n",
       "      <td>5.000000</td>\n",
       "      <td>5.000000</td>\n",
       "      <td>5.000000</td>\n",
       "      <td>5.000000</td>\n",
       "      <td>5.000000</td>\n",
       "      <td>5.000000</td>\n",
       "      <td>5.000000</td>\n",
       "    </tr>\n",
       "    <tr>\n",
       "      <th>mean</th>\n",
       "      <td>0.432149</td>\n",
       "      <td>0.429193</td>\n",
       "      <td>0.057996</td>\n",
       "      <td>0.017245</td>\n",
       "      <td>0.011909</td>\n",
       "      <td>0.008910</td>\n",
       "      <td>0.009382</td>\n",
       "      <td>0.008556</td>\n",
       "      <td>0.008195</td>\n",
       "      <td>0.006611</td>\n",
       "      <td>0.005786</td>\n",
       "      <td>0.002533</td>\n",
       "      <td>0.001534</td>\n",
       "    </tr>\n",
       "    <tr>\n",
       "      <th>std</th>\n",
       "      <td>0.006200</td>\n",
       "      <td>0.008836</td>\n",
       "      <td>0.002309</td>\n",
       "      <td>0.000655</td>\n",
       "      <td>0.000792</td>\n",
       "      <td>0.000781</td>\n",
       "      <td>0.000513</td>\n",
       "      <td>0.000506</td>\n",
       "      <td>0.000427</td>\n",
       "      <td>0.000781</td>\n",
       "      <td>0.000379</td>\n",
       "      <td>0.000340</td>\n",
       "      <td>0.000109</td>\n",
       "    </tr>\n",
       "    <tr>\n",
       "      <th>min</th>\n",
       "      <td>0.423079</td>\n",
       "      <td>0.419705</td>\n",
       "      <td>0.056458</td>\n",
       "      <td>0.016429</td>\n",
       "      <td>0.010743</td>\n",
       "      <td>0.008241</td>\n",
       "      <td>0.008700</td>\n",
       "      <td>0.007946</td>\n",
       "      <td>0.007437</td>\n",
       "      <td>0.005242</td>\n",
       "      <td>0.005207</td>\n",
       "      <td>0.002001</td>\n",
       "      <td>0.001405</td>\n",
       "    </tr>\n",
       "    <tr>\n",
       "      <th>25%</th>\n",
       "      <td>0.430381</td>\n",
       "      <td>0.420020</td>\n",
       "      <td>0.056609</td>\n",
       "      <td>0.016881</td>\n",
       "      <td>0.011735</td>\n",
       "      <td>0.008278</td>\n",
       "      <td>0.009177</td>\n",
       "      <td>0.008340</td>\n",
       "      <td>0.008336</td>\n",
       "      <td>0.006786</td>\n",
       "      <td>0.005592</td>\n",
       "      <td>0.002423</td>\n",
       "      <td>0.001485</td>\n",
       "    </tr>\n",
       "    <tr>\n",
       "      <th>50%</th>\n",
       "      <td>0.431571</td>\n",
       "      <td>0.431758</td>\n",
       "      <td>0.057363</td>\n",
       "      <td>0.017205</td>\n",
       "      <td>0.011767</td>\n",
       "      <td>0.008595</td>\n",
       "      <td>0.009311</td>\n",
       "      <td>0.008405</td>\n",
       "      <td>0.008360</td>\n",
       "      <td>0.006838</td>\n",
       "      <td>0.005998</td>\n",
       "      <td>0.002614</td>\n",
       "      <td>0.001487</td>\n",
       "    </tr>\n",
       "    <tr>\n",
       "      <th>75%</th>\n",
       "      <td>0.436658</td>\n",
       "      <td>0.436251</td>\n",
       "      <td>0.057504</td>\n",
       "      <td>0.017563</td>\n",
       "      <td>0.012611</td>\n",
       "      <td>0.009413</td>\n",
       "      <td>0.009661</td>\n",
       "      <td>0.008817</td>\n",
       "      <td>0.008363</td>\n",
       "      <td>0.007001</td>\n",
       "      <td>0.006057</td>\n",
       "      <td>0.002779</td>\n",
       "      <td>0.001628</td>\n",
       "    </tr>\n",
       "    <tr>\n",
       "      <th>max</th>\n",
       "      <td>0.439056</td>\n",
       "      <td>0.438232</td>\n",
       "      <td>0.062045</td>\n",
       "      <td>0.018149</td>\n",
       "      <td>0.012690</td>\n",
       "      <td>0.010023</td>\n",
       "      <td>0.010061</td>\n",
       "      <td>0.009273</td>\n",
       "      <td>0.008478</td>\n",
       "      <td>0.007188</td>\n",
       "      <td>0.006075</td>\n",
       "      <td>0.002848</td>\n",
       "      <td>0.001667</td>\n",
       "    </tr>\n",
       "  </tbody>\n",
       "</table>\n",
       "</div>"
      ],
      "text/plain": [
       "       distance_to_goal_mid  angular_size_rad_goal  send_off_diff  \\\n",
       "count              5.000000               5.000000       5.000000   \n",
       "mean               0.432149               0.429193       0.057996   \n",
       "std                0.006200               0.008836       0.002309   \n",
       "min                0.423079               0.419705       0.056458   \n",
       "25%                0.430381               0.420020       0.056609   \n",
       "50%                0.431571               0.431758       0.057363   \n",
       "75%                0.436658               0.436251       0.057504   \n",
       "max                0.439056               0.438232       0.062045   \n",
       "\n",
       "       side_of_field_matching_foot  dominant_foot  throw_in  free_kick  \\\n",
       "count                     5.000000       5.000000  5.000000   5.000000   \n",
       "mean                      0.017245       0.011909  0.008910   0.009382   \n",
       "std                       0.000655       0.000792  0.000781   0.000513   \n",
       "min                       0.016429       0.010743  0.008241   0.008700   \n",
       "25%                       0.016881       0.011735  0.008278   0.009177   \n",
       "50%                       0.017205       0.011767  0.008595   0.009311   \n",
       "75%                       0.017563       0.012611  0.009413   0.009661   \n",
       "max                       0.018149       0.012690  0.010023   0.010061   \n",
       "\n",
       "         corner    kicked  free_kick_cross  goal_kick  free_kick_shot  \\\n",
       "count  5.000000  5.000000         5.000000   5.000000        5.000000   \n",
       "mean   0.008556  0.008195         0.006611   0.005786        0.002533   \n",
       "std    0.000506  0.000427         0.000781   0.000379        0.000340   \n",
       "min    0.007946  0.007437         0.005242   0.005207        0.002001   \n",
       "25%    0.008340  0.008336         0.006786   0.005592        0.002423   \n",
       "50%    0.008405  0.008360         0.006838   0.005998        0.002614   \n",
       "75%    0.008817  0.008363         0.007001   0.006057        0.002779   \n",
       "max    0.009273  0.008478         0.007188   0.006075        0.002848   \n",
       "\n",
       "        penalty  \n",
       "count  5.000000  \n",
       "mean   0.001534  \n",
       "std    0.000109  \n",
       "min    0.001405  \n",
       "25%    0.001485  \n",
       "50%    0.001487  \n",
       "75%    0.001628  \n",
       "max    0.001667  "
      ]
     },
     "execution_count": 42,
     "metadata": {},
     "output_type": "execute_result"
    }
   ],
   "source": [
    "ex_tree.sort_values('ex_trees_0', ascending=False).T.describe()"
   ]
  },
  {
   "cell_type": "code",
   "execution_count": 43,
   "metadata": {},
   "outputs": [],
   "source": [
    "features_nl_2 = [\n",
    "       'distance_to_goal_mid',\n",
    "       'angular_size_rad_goal', 'kicked', 'side_of_field_matching_foot',\n",
    "       'send_off_diff', 'dominant_foot', 'free_kick_30s_ago']"
   ]
  },
  {
   "cell_type": "code",
   "execution_count": 44,
   "metadata": {},
   "outputs": [],
   "source": [
    "fits_2 =  {}\n",
    "f1_scores_by_model_2 = defaultdict(list)\n",
    "\n",
    "\n",
    "for loop_ind, (train, val) in enumerate(folds.split(train_df)):  # 5 folds\n",
    "    training_set = train_df.iloc[train]\n",
    "    validation_set = train_df.iloc[val]\n",
    "    X_ts = training_set[features_nl]\n",
    "    y_ts = training_set[target]\n",
    "    X_vs = validation_set[features_nl]\n",
    "    y_vs = validation_set[target]\n",
    "    for model in models.keys():  # 2 models\n",
    "        fits_2[f'{model}_{loop_ind}'] = models[model]().fit(X_ts, y_ts)\n",
    "        y_pred_ts = fits[f'{model}_{loop_ind}'].predict(X_ts)\n",
    "        y_pred_vs = fits[f'{model}_{loop_ind}'].predict(X_vs)\n",
    "        f1_scores_by_model_2[model + '_train'].append(f1_score(y_pred_ts, y_ts))\n",
    "        f1_scores_by_model_2[model + '_val'].append(f1_score(y_pred_vs, y_vs))\n",
    "        "
   ]
  },
  {
   "cell_type": "code",
   "execution_count": 45,
   "metadata": {},
   "outputs": [
    {
     "name": "stdout",
     "output_type": "stream",
     "text": [
      "Mean F1 Score Across 5 folds\n",
      "rand_forest_train   :  0.563 ±  0.003\n",
      "rand_forest_val     :  0.490 ±  0.005\n",
      "ada_train           :  0.163 ±  0.012\n",
      "ada_val             :  0.160 ±  0.011\n",
      "ex_trees_train      :  0.551 ±  0.003\n",
      "ex_trees_val        :  0.480 ±  0.005\n"
     ]
    }
   ],
   "source": [
    "print(f'Mean F1 Score Across {folds.get_n_splits()} folds')\n",
    "for key in f1_scores_by_model_2.keys():\n",
    "    mean = np.mean(f1_scores_by_model_2[key])\n",
    "    std = np.std(f1_scores_by_model_2[key])\n",
    "    print(f'{key:<20}: {mean: 6.3f} ± {std: 5.3f}')"
   ]
  },
  {
   "cell_type": "code",
   "execution_count": 46,
   "metadata": {},
   "outputs": [
    {
     "name": "stdout",
     "output_type": "stream",
     "text": [
      "rand_forest_0\n",
      "ada_0\n",
      "ex_trees_0\n",
      "rand_forest_1\n",
      "ada_1\n",
      "ex_trees_1\n",
      "rand_forest_2\n",
      "ada_2\n",
      "ex_trees_2\n",
      "rand_forest_3\n",
      "ada_3\n",
      "ex_trees_3\n",
      "rand_forest_4\n",
      "ada_4\n",
      "ex_trees_4\n"
     ]
    }
   ],
   "source": [
    "rand_for_2 = pd.DataFrame(index=features_nl)\n",
    "ex_tree_2 = pd.DataFrame(index=features_nl)\n",
    "ada_2 = pd.DataFrame(index=features_nl)\n",
    "for key in fits.keys():\n",
    "    impor = pd.Series(fits[key].feature_importances_, index=features_nl, name=key)\n",
    "    if key.startswith('r'):\n",
    "        print(key)\n",
    "        rand_for_2[key] = impor\n",
    "    elif key.startswith('e'):\n",
    "        print(key)\n",
    "        ex_tree_2[key] = impor\n",
    "    else:\n",
    "        print(key)\n",
    "        ada_2[key] = impor\n",
    "\n",
    "f_imp_2 = pd.merge(rand_for, ada, left_index=True, right_index=True)\n",
    "f_imp_2 = pd.merge(f_imp_2, ex_tree, left_index=True, right_index=True)"
   ]
  },
  {
   "cell_type": "code",
   "execution_count": 47,
   "metadata": {},
   "outputs": [
    {
     "name": "stdout",
     "output_type": "stream",
     "text": [
      "Modeling: distance_to_goal_mid\n",
      "Cross Fold 1 of 5\n",
      "Cross Fold 2 of 5\n",
      "Cross Fold 3 of 5\n",
      "Cross Fold 4 of 5\n",
      "Cross Fold 5 of 5\n",
      "Modeling: angular_size_rad_goal\n",
      "Cross Fold 1 of 5\n",
      "Cross Fold 2 of 5\n",
      "Cross Fold 3 of 5\n",
      "Cross Fold 4 of 5\n",
      "Cross Fold 5 of 5\n",
      "Modeling: kicked\n",
      "Cross Fold 1 of 5\n",
      "Cross Fold 2 of 5\n",
      "Cross Fold 3 of 5\n",
      "Cross Fold 4 of 5\n",
      "Cross Fold 5 of 5\n",
      "Modeling: side_of_field_matching_foot\n",
      "Cross Fold 1 of 5\n",
      "Cross Fold 2 of 5\n",
      "Cross Fold 3 of 5\n",
      "Cross Fold 4 of 5\n",
      "Cross Fold 5 of 5\n",
      "Modeling: send_off_diff\n",
      "Cross Fold 1 of 5\n",
      "Cross Fold 2 of 5\n",
      "Cross Fold 3 of 5\n",
      "Cross Fold 4 of 5\n",
      "Cross Fold 5 of 5\n",
      "Modeling: dominant_foot\n",
      "Cross Fold 1 of 5\n",
      "Cross Fold 2 of 5\n",
      "Cross Fold 3 of 5\n",
      "Cross Fold 4 of 5\n",
      "Cross Fold 5 of 5\n",
      "Modeling: corner\n",
      "Cross Fold 1 of 5\n",
      "Cross Fold 2 of 5\n",
      "Cross Fold 3 of 5\n",
      "Cross Fold 4 of 5\n",
      "Cross Fold 5 of 5\n",
      "Modeling: free_kick\n",
      "Cross Fold 1 of 5\n",
      "Cross Fold 2 of 5\n",
      "Cross Fold 3 of 5\n",
      "Cross Fold 4 of 5\n",
      "Cross Fold 5 of 5\n",
      "Modeling: free_kick_cross\n",
      "Cross Fold 1 of 5\n",
      "Cross Fold 2 of 5\n",
      "Cross Fold 3 of 5\n",
      "Cross Fold 4 of 5\n",
      "Cross Fold 5 of 5\n",
      "Modeling: free_kick_shot\n",
      "Cross Fold 1 of 5\n",
      "Cross Fold 2 of 5\n",
      "Cross Fold 3 of 5\n",
      "Cross Fold 4 of 5\n",
      "Cross Fold 5 of 5\n",
      "Modeling: goal_kick\n",
      "Cross Fold 1 of 5\n",
      "Cross Fold 2 of 5\n",
      "Cross Fold 3 of 5\n",
      "Cross Fold 4 of 5\n",
      "Cross Fold 5 of 5\n",
      "Modeling: penalty\n",
      "Cross Fold 1 of 5\n",
      "Cross Fold 2 of 5\n",
      "Cross Fold 3 of 5\n",
      "Cross Fold 4 of 5\n",
      "Cross Fold 5 of 5\n",
      "Modeling: throw_in\n",
      "Cross Fold 1 of 5\n",
      "Cross Fold 2 of 5\n",
      "Cross Fold 3 of 5\n",
      "Cross Fold 4 of 5\n",
      "Cross Fold 5 of 5\n"
     ]
    }
   ],
   "source": [
    "fits_features = {}\n",
    "f1_scores_by_features = defaultdict(list)\n",
    "for feature in features_all:\n",
    "    print(f'Modeling: {feature}')\n",
    "    for loop_ind, (train, val) in enumerate(folds.split(train_df)):  # 5 folds\n",
    "        print(f'Cross Fold {loop_ind + 1} of 5')\n",
    "        training_set = train_df.iloc[train]\n",
    "        validation_set = train_df.iloc[val]\n",
    "        X_ts = training_set[[feature]]\n",
    "        y_ts = training_set[target]\n",
    "        X_vs = validation_set[[feature]]\n",
    "        y_vs = validation_set[target]\n",
    "        fits_features[f'{feature}'] = RandomForestClassifier().fit(X_ts, y_ts)\n",
    "        y_pred_ts = fits_features[f'{feature}'].predict(X_ts)\n",
    "        y_pred_vs = fits_features[f'{feature}'].predict(X_vs)\n",
    "        f1_scores_by_features[feature + '_train'].append(f1_score(y_pred_ts, y_ts))\n",
    "        f1_scores_by_features[feature + '_val'].append(f1_score(y_pred_vs, y_vs))"
   ]
  },
  {
   "cell_type": "code",
   "execution_count": 48,
   "metadata": {},
   "outputs": [
    {
     "name": "stdout",
     "output_type": "stream",
     "text": [
      "Mean F1 Score Across 5 folds\n",
      "distance_to_goal_mid_train:  0.171 ±  0.005\n",
      "distance_to_goal_mid_val:  0.169 ±  0.006\n",
      "angular_size_rad_goal_train:  0.179 ±  0.007\n",
      "angular_size_rad_goal_val:  0.176 ±  0.009\n",
      "kicked_train        :  0.000 ±  0.000\n",
      "kicked_val          :  0.000 ±  0.000\n",
      "side_of_field_matching_foot_train:  0.000 ±  0.000\n",
      "side_of_field_matching_foot_val:  0.000 ±  0.000\n",
      "send_off_diff_train :  0.000 ±  0.000\n",
      "send_off_diff_val   :  0.000 ±  0.000\n",
      "dominant_foot_train :  0.000 ±  0.000\n",
      "dominant_foot_val   :  0.000 ±  0.000\n",
      "corner_train        :  0.000 ±  0.000\n",
      "corner_val          :  0.000 ±  0.000\n",
      "free_kick_train     :  0.000 ±  0.000\n",
      "free_kick_val       :  0.000 ±  0.000\n",
      "free_kick_cross_train:  0.000 ±  0.000\n",
      "free_kick_cross_val :  0.000 ±  0.000\n",
      "free_kick_shot_train:  0.000 ±  0.000\n",
      "free_kick_shot_val  :  0.000 ±  0.000\n",
      "goal_kick_train     :  0.000 ±  0.000\n",
      "goal_kick_val       :  0.000 ±  0.000\n",
      "penalty_train       :  0.000 ±  0.000\n",
      "penalty_val         :  0.000 ±  0.000\n",
      "throw_in_train      :  0.000 ±  0.000\n",
      "throw_in_val        :  0.000 ±  0.000\n"
     ]
    }
   ],
   "source": [
    "print(f'Mean F1 Score Across {folds.get_n_splits()} folds')\n",
    "for key in f1_scores_by_features.keys():\n",
    "    mean = np.mean(f1_scores_by_features[key])\n",
    "    std = np.std(f1_scores_by_features[key])\n",
    "    print(f'{key:<20}: {mean: 6.3f} ± {std: 5.3f}')"
   ]
  },
  {
   "cell_type": "code",
   "execution_count": 49,
   "metadata": {},
   "outputs": [
    {
     "name": "stdout",
     "output_type": "stream",
     "text": [
      "Modeling without: distance_to_goal_mid\n",
      "Cross Fold 1 of 5\n",
      "Cross Fold 2 of 5\n",
      "Cross Fold 3 of 5\n",
      "Cross Fold 4 of 5\n",
      "Cross Fold 5 of 5\n",
      "Modeling without: angular_size_rad_goal\n",
      "Cross Fold 1 of 5\n",
      "Cross Fold 2 of 5\n",
      "Cross Fold 3 of 5\n",
      "Cross Fold 4 of 5\n",
      "Cross Fold 5 of 5\n",
      "Modeling without: kicked\n",
      "Cross Fold 1 of 5\n",
      "Cross Fold 2 of 5\n",
      "Cross Fold 3 of 5\n",
      "Cross Fold 4 of 5\n",
      "Cross Fold 5 of 5\n",
      "Modeling without: side_of_field_matching_foot\n",
      "Cross Fold 1 of 5\n",
      "Cross Fold 2 of 5\n",
      "Cross Fold 3 of 5\n",
      "Cross Fold 4 of 5\n",
      "Cross Fold 5 of 5\n",
      "Modeling without: send_off_diff\n",
      "Cross Fold 1 of 5\n",
      "Cross Fold 2 of 5\n",
      "Cross Fold 3 of 5\n",
      "Cross Fold 4 of 5\n",
      "Cross Fold 5 of 5\n",
      "Modeling without: dominant_foot\n",
      "Cross Fold 1 of 5\n",
      "Cross Fold 2 of 5\n",
      "Cross Fold 3 of 5\n",
      "Cross Fold 4 of 5\n",
      "Cross Fold 5 of 5\n",
      "Modeling without: corner\n",
      "Cross Fold 1 of 5\n",
      "Cross Fold 2 of 5\n",
      "Cross Fold 3 of 5\n",
      "Cross Fold 4 of 5\n",
      "Cross Fold 5 of 5\n",
      "Modeling without: free_kick\n",
      "Cross Fold 1 of 5\n",
      "Cross Fold 2 of 5\n",
      "Cross Fold 3 of 5\n",
      "Cross Fold 4 of 5\n",
      "Cross Fold 5 of 5\n",
      "Modeling without: free_kick_cross\n",
      "Cross Fold 1 of 5\n",
      "Cross Fold 2 of 5\n",
      "Cross Fold 3 of 5\n",
      "Cross Fold 4 of 5\n",
      "Cross Fold 5 of 5\n",
      "Modeling without: free_kick_shot\n",
      "Cross Fold 1 of 5\n",
      "Cross Fold 2 of 5\n",
      "Cross Fold 3 of 5\n",
      "Cross Fold 4 of 5\n",
      "Cross Fold 5 of 5\n",
      "Modeling without: goal_kick\n",
      "Cross Fold 1 of 5\n",
      "Cross Fold 2 of 5\n",
      "Cross Fold 3 of 5\n",
      "Cross Fold 4 of 5\n",
      "Cross Fold 5 of 5\n",
      "Modeling without: penalty\n",
      "Cross Fold 1 of 5\n",
      "Cross Fold 2 of 5\n",
      "Cross Fold 3 of 5\n",
      "Cross Fold 4 of 5\n",
      "Cross Fold 5 of 5\n",
      "Modeling without: throw_in\n",
      "Cross Fold 1 of 5\n",
      "Cross Fold 2 of 5\n",
      "Cross Fold 3 of 5\n",
      "Cross Fold 4 of 5\n",
      "Cross Fold 5 of 5\n"
     ]
    }
   ],
   "source": [
    "fits_features_neg = {}\n",
    "f1_scores_by_features_neg = defaultdict(list)\n",
    "for ind in range(len(features_all)):\n",
    "    feature_neg = features_all[ind]\n",
    "    sub_set = features_all[:ind] + features_all[ind+1:]\n",
    "    print(f'Modeling without: {feature_neg}')\n",
    "    for loop_ind, (train, val) in enumerate(folds.split(train_df)):  # 5 folds\n",
    "        print(f'Cross Fold {loop_ind + 1} of 5')\n",
    "        training_set = train_df.iloc[train]\n",
    "        validation_set = train_df.iloc[val]\n",
    "        X_ts = training_set[sub_set]\n",
    "        y_ts = training_set[target]\n",
    "        X_vs = validation_set[sub_set]\n",
    "        y_vs = validation_set[target]\n",
    "        fits_features_neg[f'{feature_neg}'] = RandomForestClassifier().fit(X_ts, y_ts)\n",
    "        y_pred_ts = fits_features_neg[f'{feature_neg}'].predict(X_ts)\n",
    "        y_pred_vs = fits_features_neg[f'{feature_neg}'].predict(X_vs)\n",
    "        f1_scores_by_features_neg[feature_neg + '_train'].append(f1_score(y_pred_ts, y_ts))\n",
    "        f1_scores_by_features_neg[feature_neg + '_val'].append(f1_score(y_pred_vs, y_vs))"
   ]
  },
  {
   "cell_type": "code",
   "execution_count": 50,
   "metadata": {},
   "outputs": [
    {
     "name": "stdout",
     "output_type": "stream",
     "text": [
      "Mean F1 Score Across 5 folds\n",
      "distance_to_goal_mid_val:  0.484 ±  0.005\n",
      "angular_size_rad_goal_val:  0.473 ±  0.004\n",
      "kicked_val          :  0.492 ±  0.006\n",
      "side_of_field_matching_foot_val:  0.441 ±  0.004\n",
      "send_off_diff_val   :  0.391 ±  0.010\n",
      "dominant_foot_val   :  0.468 ±  0.005\n",
      "corner_val          :  0.463 ±  0.005\n",
      "free_kick_val       :  0.461 ±  0.007\n",
      "free_kick_cross_val :  0.468 ±  0.005\n",
      "free_kick_shot_val  :  0.486 ±  0.007\n",
      "goal_kick_val       :  0.472 ±  0.006\n",
      "penalty_val         :  0.488 ±  0.005\n",
      "throw_in_val        :  0.457 ±  0.007\n"
     ]
    }
   ],
   "source": [
    "print(f'Mean F1 Score Across {folds.get_n_splits()} folds')\n",
    "for key in f1_scores_by_features_neg.keys():\n",
    "    if key.endswith('_val'):\n",
    "        mean = np.mean(f1_scores_by_features_neg[key])\n",
    "        std = np.std(f1_scores_by_features_neg[key])\n",
    "        print(f'{key:<20}: {mean: 6.3f} ± {std: 5.3f}')"
   ]
  },
  {
   "cell_type": "code",
   "execution_count": 51,
   "metadata": {},
   "outputs": [
    {
     "data": {
      "text/plain": [
       "224912"
      ]
     },
     "execution_count": 51,
     "metadata": {},
     "output_type": "execute_result"
    }
   ],
   "source": [
    "len(data_df)"
   ]
  },
  {
   "cell_type": "code",
   "execution_count": 52,
   "metadata": {},
   "outputs": [
    {
     "data": {
      "text/plain": [
       "224345"
      ]
     },
     "execution_count": 52,
     "metadata": {},
     "output_type": "execute_result"
    }
   ],
   "source": [
    "len(filtered_df)"
   ]
  },
  {
   "cell_type": "code",
   "execution_count": null,
   "metadata": {},
   "outputs": [],
   "source": []
  }
 ],
 "metadata": {
  "kernelspec": {
   "display_name": "Python 3",
   "language": "python",
   "name": "python3"
  },
  "language_info": {
   "codemirror_mode": {
    "name": "ipython",
    "version": 3
   },
   "file_extension": ".py",
   "mimetype": "text/x-python",
   "name": "python",
   "nbconvert_exporter": "python",
   "pygments_lexer": "ipython3",
   "version": "3.7.7"
  }
 },
 "nbformat": 4,
 "nbformat_minor": 4
}
